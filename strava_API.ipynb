{
 "cells": [
  {
   "cell_type": "code",
   "execution_count": 3,
   "id": "5d459dfb-74f9-41d9-8af4-c92e2c2b4a4c",
   "metadata": {},
   "outputs": [
    {
     "data": {
      "text/plain": [
       "'/Users/edwardterrell/Desktop/Training/kindle/strava'"
      ]
     },
     "execution_count": 3,
     "metadata": {},
     "output_type": "execute_result"
    }
   ],
   "source": [
    "pwd"
   ]
  },
  {
   "cell_type": "code",
   "execution_count": 1,
   "id": "d45d12e7-7565-4056-b236-bcebd660680e",
   "metadata": {},
   "outputs": [],
   "source": [
    "import requests\n",
    "import json\n",
    "import time\n",
    "import os\n",
    "from pprint import pprint\n",
    "import pandas as pd\n",
    "pd.set_option('display.precision', 1)\n",
    "from clean_convert import cleanup, convert_speed"
   ]
  },
  {
   "cell_type": "code",
   "execution_count": 2,
   "id": "cd2dbd22-87a1-41ed-b5ce-869ca78f81bb",
   "metadata": {},
   "outputs": [
    {
     "data": {
      "text/plain": [
       "'/Users/edwardterrell/opt/anaconda3/envs/mlml/bin/python'"
      ]
     },
     "execution_count": 2,
     "metadata": {},
     "output_type": "execute_result"
    }
   ],
   "source": [
    "from IPython.core.display import HTML\n",
    "css = open('style-table.css').read() + open('style-notebook.css').read()\n",
    "HTML('<style>{}</style>'.format(css))\n",
    "import sys\n",
    "sys.executable"
   ]
  },
  {
   "cell_type": "code",
   "execution_count": 4,
   "id": "ef1d9104-3a0a-4425-9df4-4ff2739c1fc5",
   "metadata": {},
   "outputs": [
    {
     "name": "stdout",
     "output_type": "stream",
     "text": [
      "Using access token: 8e5e6a3dd85ce84a4003a72c0a7b1b163bb2d747\n",
      "{'id': 723727, 'username': 'eterrell', 'resource_state': 2, 'firstname': 'Ed', 'lastname': 'Terrell', 'bio': '', 'city': 'Boulder', 'state': 'CO', 'country': 'United States', 'sex': 'M', 'premium': True, 'summit': True, 'created_at': '2012-07-05T00:04:09Z', 'updated_at': '2025-07-09T12:38:59Z', 'badge_type_id': 1, 'weight': 61.235, 'profile_medium': 'https://dgalywyr863hv.cloudfront.net/pictures/athletes/723727/20826329/1/medium.jpg', 'profile': 'https://dgalywyr863hv.cloudfront.net/pictures/athletes/723727/20826329/1/large.jpg', 'friend': None, 'follower': None}\n"
     ]
    }
   ],
   "source": [
    "from token_manager import get_valid_access_token\n",
    "\n",
    "access_token = get_valid_access_token()\n",
    "print(\"Using access token:\", access_token)\n",
    "\n",
    "# Make an authenticated API call\n",
    "response = requests.get(\n",
    "    'https://www.strava.com/api/v3/athlete',\n",
    "    headers={'Authorization': f'Bearer {access_token}'}\n",
    ")\n",
    "print(response.json())"
   ]
  },
  {
   "cell_type": "code",
   "execution_count": null,
   "id": "704ffe60-376d-4df7-ad0b-dfe698877eff",
   "metadata": {},
   "outputs": [],
   "source": [
    "# USED ONLY IF token_manager.py isn't generating correctly\n",
    "client_id = 167221\n",
    "client_secret = 'f4df8e0dec7d9d8e725707eaf05037fcc845989d'\n",
    "auth_code = 'd973f0f86d2e56c3e7ac369809ca6b14fc814a98' # stored from last time\n",
    "\n",
    "response = requests.post(\n",
    "    'https://www.strava.com/oauth/token',\n",
    "    data={\n",
    "        'client_id': client_id,\n",
    "        'client_secret': client_secret,\n",
    "        'code': auth_code,\n",
    "        'grant_type': 'authorization_code',\n",
    "    }\n",
    ")\n",
    "# Check and save response\n",
    "if response.status_code == 200:\n",
    "    tokens = response.json()\n",
    "    print(\"✅ Tokens received:\")\n",
    "    print(json.dumps(tokens, indent=2))\n",
    "\n",
    "    # Save to tokens.json for use in token_manager.py\n",
    "    with open(\"tokens.json\", \"w\") as f:\n",
    "        json.dump(tokens, f)\n",
    "else:\n",
    "    print(\"❌ Failed to get tokens:\", response.status_code)\n",
    "    print(response.text)"
   ]
  },
  {
   "cell_type": "code",
   "execution_count": null,
   "id": "3724f16a-c058-407c-85d3-3cbd1c250999",
   "metadata": {},
   "outputs": [],
   "source": [
    "import datetime\n",
    "expires_at = 1751931129\n",
    "# Convert to datetime object (local time)\n",
    "dt_local = datetime.datetime.fromtimestamp(expires_at)\n",
    "print(\"Local time: \", dt_local)"
   ]
  },
  {
   "cell_type": "code",
   "execution_count": 5,
   "id": "81cd19c4-0abe-4efa-a773-540a8bd3b052",
   "metadata": {},
   "outputs": [
    {
     "data": {
      "text/plain": [
       "200"
      ]
     },
     "execution_count": 5,
     "metadata": {},
     "output_type": "execute_result"
    }
   ],
   "source": [
    "# Get recent activities\n",
    "response = requests.get(\n",
    "    'https://www.strava.com/api/v3/athlete/activities',\n",
    "    headers={'Authorization': f'Bearer {access_token}'}\n",
    ")\n",
    "activities = response.json()\n",
    "response.status_code"
   ]
  },
  {
   "cell_type": "code",
   "execution_count": 6,
   "id": "9f3cf1d4-726d-4ac0-a30f-0017a388847d",
   "metadata": {},
   "outputs": [
    {
     "name": "stdout",
     "output_type": "stream",
     "text": [
      "ID: 15061307314, Name: Nederland exploration and exploitation, Date: 2025-07-09T14:17:28Z\n",
      "ID: 15048399185, Name: Jamestown and eats at Lucky's Bakery, Date: 2025-07-08T14:44:02Z\n",
      "ID: 15037283785, Name: Old Stage, Date: 2025-07-07T12:38:38Z\n"
     ]
    }
   ],
   "source": [
    "# Show the first 3 activities with ID and name\n",
    "for activity in activities[:3]:\n",
    "    print(f\"ID: {activity['id']}, Name: {activity['name']}, Date: {activity['start_date']}\")"
   ]
  },
  {
   "cell_type": "markdown",
   "id": "c55c12a4-51df-4e3a-b6e1-3e27edadbfce",
   "metadata": {},
   "source": [
    "### Strava_df, Build"
   ]
  },
  {
   "cell_type": "code",
   "execution_count": 7,
   "id": "2eed1865-201f-4d6e-8700-4ef9096d8c36",
   "metadata": {},
   "outputs": [
    {
     "data": {
      "text/html": [
       "<div>\n",
       "<style scoped>\n",
       "    .dataframe tbody tr th:only-of-type {\n",
       "        vertical-align: middle;\n",
       "    }\n",
       "\n",
       "    .dataframe tbody tr th {\n",
       "        vertical-align: top;\n",
       "    }\n",
       "\n",
       "    .dataframe thead th {\n",
       "        text-align: right;\n",
       "    }\n",
       "</style>\n",
       "<table border=\"1\" class=\"dataframe\">\n",
       "  <thead>\n",
       "    <tr style=\"text-align: right;\">\n",
       "      <th></th>\n",
       "      <th>id</th>\n",
       "      <th>name</th>\n",
       "      <th>distance</th>\n",
       "      <th>moving_time</th>\n",
       "      <th>total_elevation_gain</th>\n",
       "      <th>sport_type</th>\n",
       "      <th>average_speed</th>\n",
       "      <th>average_heartrate</th>\n",
       "      <th>max_heartrate</th>\n",
       "      <th>suffer_score</th>\n",
       "      <th>start_date</th>\n",
       "    </tr>\n",
       "  </thead>\n",
       "  <tbody>\n",
       "    <tr>\n",
       "      <th>0</th>\n",
       "      <td>15061307314</td>\n",
       "      <td>Nederland exploration and exploitation</td>\n",
       "      <td>54140.4</td>\n",
       "      <td>11638</td>\n",
       "      <td>993.7</td>\n",
       "      <td>Ride</td>\n",
       "      <td>4.7</td>\n",
       "      <td>109.1</td>\n",
       "      <td>131.0</td>\n",
       "      <td>106.0</td>\n",
       "      <td>2025-07-09T14:17:28Z</td>\n",
       "    </tr>\n",
       "    <tr>\n",
       "      <th>1</th>\n",
       "      <td>15048399185</td>\n",
       "      <td>Jamestown and eats at Lucky's Bakery</td>\n",
       "      <td>60380.4</td>\n",
       "      <td>9467</td>\n",
       "      <td>757.0</td>\n",
       "      <td>Ride</td>\n",
       "      <td>6.4</td>\n",
       "      <td>110.9</td>\n",
       "      <td>140.0</td>\n",
       "      <td>101.0</td>\n",
       "      <td>2025-07-08T14:44:02Z</td>\n",
       "    </tr>\n",
       "  </tbody>\n",
       "</table>\n",
       "</div>"
      ],
      "text/plain": [
       "            id                                    name  distance  moving_time  \\\n",
       "0  15061307314  Nederland exploration and exploitation   54140.4        11638   \n",
       "1  15048399185    Jamestown and eats at Lucky's Bakery   60380.4         9467   \n",
       "\n",
       "   total_elevation_gain sport_type  average_speed  average_heartrate  \\\n",
       "0                 993.7       Ride            4.7              109.1   \n",
       "1                 757.0       Ride            6.4              110.9   \n",
       "\n",
       "   max_heartrate  suffer_score            start_date  \n",
       "0          131.0         106.0  2025-07-09T14:17:28Z  \n",
       "1          140.0         101.0  2025-07-08T14:44:02Z  "
      ]
     },
     "execution_count": 7,
     "metadata": {},
     "output_type": "execute_result"
    }
   ],
   "source": [
    "# Build out strava_df with only the necessary columns\n",
    "strava_df = pd.DataFrame(activities)\n",
    "cols_needed = ['id','name', 'distance', 'moving_time','total_elevation_gain', 'sport_type',\n",
    "          'average_speed', 'average_heartrate','max_heartrate', 'suffer_score','start_date']\n",
    "strava_df = strava_df.loc[:,cols_needed]\n",
    "\n",
    "strava_df = strava_df.dropna(subset=['average_heartrate'])\n",
    "\n",
    "strava_df.head(2)"
   ]
  },
  {
   "cell_type": "code",
   "execution_count": null,
   "id": "6a3ef4a9-35a5-447b-9f46-5ca57296662c",
   "metadata": {},
   "outputs": [],
   "source": [
    "def cleanup (strava_df):\n",
    "    \"\"\"\n",
    "    Clean and transform Strava activity DataFrame:\n",
    "    - Convert start_date to datetime and extract date\n",
    "    - Convert distance from meters to miles\n",
    "    - Convert moving_time to minutes and add formatted time (hh:mm)\n",
    "    - Convert elevation gain from meters to feet\n",
    "    \"\"\"\n",
    "    # Change to datetime and create new date column\n",
    "    strava_df.start_date = pd.to_datetime(strava_df.start_date) \n",
    "    strava_df['date'] = strava_df.start_date.dt.date\n",
    "    # Change distance to miles\n",
    "    strava_df['distance'] = strava_df['distance'] / 1609.34\n",
    "    # Change moving time to minutes in new col: time\n",
    "    strava_df['time'] = strava_df.moving_time/60\n",
    "    # Convert to timedelta\n",
    "    strava_df.moving_time = pd.to_timedelta(strava_df['moving_time'], unit='s')\n",
    "    # Change to hours/minutes\n",
    "    strava_df['moving_time'] = strava_df['moving_time'].apply(lambda td: f\"{int(td.total_seconds() // 3600)}:{int((td.total_seconds() % 3600) // 60):02}\")\n",
    "    # Change to feet\n",
    "    strava_df.total_elevation_gain = strava_df.total_elevation_gain*3.28084\n",
    "    \n",
    "    return strava_df\n",
    "\n",
    "def convert_speed(row):\n",
    "    if row['sport_type'] == 'Ride':\n",
    "        return row['average_speed'] * 2.23694  # m/s to mph\n",
    "    elif row['sport_type'] == 'Run':\n",
    "        if row['average_speed'] > 0:\n",
    "            pace_sec_per_mile = 1609.34 / row['average_speed']\n",
    "            minutes = int(pace_sec_per_mile // 60)\n",
    "            seconds = int(pace_sec_per_mile % 60)\n",
    "            return f\"{minutes}:{seconds:02d}\"\n",
    "        else:\n",
    "            return \"N/A\"\n",
    "    else:\n",
    "        return None  # for other sports"
   ]
  },
  {
   "cell_type": "code",
   "execution_count": 8,
   "id": "dc18f667-707c-4a6d-80ee-742769857af0",
   "metadata": {},
   "outputs": [],
   "source": [
    "# process data\n",
    "cleanup (strava_df)\n",
    "\n",
    "# add column: converted_speed -mph (ride) and -min/mile (run)\n",
    "strava_df['converted_speed'] = strava_df.apply(convert_speed, axis=1)\n",
    "\n",
    "# Reorder columns\n",
    "new_order = ['id', 'name','date','sport_type',  'distance','moving_time', 'converted_speed', \n",
    "       'total_elevation_gain', 'average_heartrate', 'max_heartrate',\n",
    "       'suffer_score', 'time','average_speed','start_date' ]\n",
    "\n",
    "strava_df = strava_df[new_order]\n",
    "\n",
    "# modify column names\n",
    "strava_df.columns = ['id', 'name', 'date', 'sport', 'distance', 'time',\n",
    "       'speed', 'elev_gain',\n",
    "       'avg_HR', 'max_HR', 'suffer_score', 'time-minutes','average_speed',\n",
    "       'start_date']"
   ]
  },
  {
   "cell_type": "code",
   "execution_count": 9,
   "id": "080d8aa9-d23c-4987-9808-fa9d4a8c1b0a",
   "metadata": {},
   "outputs": [
    {
     "data": {
      "text/html": [
       "<div>\n",
       "<style scoped>\n",
       "    .dataframe tbody tr th:only-of-type {\n",
       "        vertical-align: middle;\n",
       "    }\n",
       "\n",
       "    .dataframe tbody tr th {\n",
       "        vertical-align: top;\n",
       "    }\n",
       "\n",
       "    .dataframe thead th {\n",
       "        text-align: right;\n",
       "    }\n",
       "</style>\n",
       "<table border=\"1\" class=\"dataframe\">\n",
       "  <thead>\n",
       "    <tr style=\"text-align: right;\">\n",
       "      <th></th>\n",
       "      <th>id</th>\n",
       "      <th>name</th>\n",
       "      <th>date</th>\n",
       "      <th>sport</th>\n",
       "      <th>distance</th>\n",
       "      <th>time</th>\n",
       "      <th>speed</th>\n",
       "      <th>elev_gain</th>\n",
       "      <th>avg_HR</th>\n",
       "      <th>max_HR</th>\n",
       "      <th>suffer_score</th>\n",
       "      <th>time-minutes</th>\n",
       "      <th>average_speed</th>\n",
       "      <th>start_date</th>\n",
       "    </tr>\n",
       "  </thead>\n",
       "  <tbody>\n",
       "    <tr>\n",
       "      <th>0</th>\n",
       "      <td>15061307314</td>\n",
       "      <td>Nederland exploration and exploitation</td>\n",
       "      <td>2025-07-09</td>\n",
       "      <td>Ride</td>\n",
       "      <td>33.6</td>\n",
       "      <td>3:13</td>\n",
       "      <td>10.4</td>\n",
       "      <td>3260.2</td>\n",
       "      <td>109.1</td>\n",
       "      <td>131.0</td>\n",
       "      <td>106.0</td>\n",
       "      <td>194.0</td>\n",
       "      <td>4.7</td>\n",
       "      <td>2025-07-09 14:17:28+00:00</td>\n",
       "    </tr>\n",
       "    <tr>\n",
       "      <th>1</th>\n",
       "      <td>15048399185</td>\n",
       "      <td>Jamestown and eats at Lucky's Bakery</td>\n",
       "      <td>2025-07-08</td>\n",
       "      <td>Ride</td>\n",
       "      <td>37.5</td>\n",
       "      <td>2:37</td>\n",
       "      <td>14.3</td>\n",
       "      <td>2483.6</td>\n",
       "      <td>110.9</td>\n",
       "      <td>140.0</td>\n",
       "      <td>101.0</td>\n",
       "      <td>157.8</td>\n",
       "      <td>6.4</td>\n",
       "      <td>2025-07-08 14:44:02+00:00</td>\n",
       "    </tr>\n",
       "  </tbody>\n",
       "</table>\n",
       "</div>"
      ],
      "text/plain": [
       "            id                                    name        date sport  \\\n",
       "0  15061307314  Nederland exploration and exploitation  2025-07-09  Ride   \n",
       "1  15048399185    Jamestown and eats at Lucky's Bakery  2025-07-08  Ride   \n",
       "\n",
       "   distance  time speed  elev_gain  avg_HR  max_HR  suffer_score  \\\n",
       "0      33.6  3:13  10.4     3260.2   109.1   131.0         106.0   \n",
       "1      37.5  2:37  14.3     2483.6   110.9   140.0         101.0   \n",
       "\n",
       "   time-minutes  average_speed                start_date  \n",
       "0         194.0            4.7 2025-07-09 14:17:28+00:00  \n",
       "1         157.8            6.4 2025-07-08 14:44:02+00:00  "
      ]
     },
     "execution_count": 9,
     "metadata": {},
     "output_type": "execute_result"
    }
   ],
   "source": [
    "strava_df.head(2)"
   ]
  },
  {
   "cell_type": "markdown",
   "id": "1b0f34f2-ac01-4b9e-85ba-0bf884506a15",
   "metadata": {},
   "source": [
    "### Using the dataframe approach"
   ]
  },
  {
   "cell_type": "code",
   "execution_count": 10,
   "id": "f72dac6a-4c86-4010-83b4-69b910facdd1",
   "metadata": {},
   "outputs": [
    {
     "data": {
      "text/html": [
       "<div>\n",
       "<style scoped>\n",
       "    .dataframe tbody tr th:only-of-type {\n",
       "        vertical-align: middle;\n",
       "    }\n",
       "\n",
       "    .dataframe tbody tr th {\n",
       "        vertical-align: top;\n",
       "    }\n",
       "\n",
       "    .dataframe thead th {\n",
       "        text-align: right;\n",
       "    }\n",
       "</style>\n",
       "<table border=\"1\" class=\"dataframe\">\n",
       "  <thead>\n",
       "    <tr style=\"text-align: right;\">\n",
       "      <th></th>\n",
       "      <th>id</th>\n",
       "      <th>name</th>\n",
       "      <th>date</th>\n",
       "      <th>suffer_score</th>\n",
       "    </tr>\n",
       "  </thead>\n",
       "  <tbody>\n",
       "    <tr>\n",
       "      <th>25</th>\n",
       "      <td>14694429401</td>\n",
       "      <td>3 mile Morning Run</td>\n",
       "      <td>2025-06-04</td>\n",
       "      <td>52.0</td>\n",
       "    </tr>\n",
       "    <tr>\n",
       "      <th>26</th>\n",
       "      <td>14684468262</td>\n",
       "      <td>SuperFlag</td>\n",
       "      <td>2025-06-03</td>\n",
       "      <td>160.0</td>\n",
       "    </tr>\n",
       "    <tr>\n",
       "      <th>27</th>\n",
       "      <td>14672337121</td>\n",
       "      <td>Boulder Res run - recovery day</td>\n",
       "      <td>2025-06-02</td>\n",
       "      <td>84.0</td>\n",
       "    </tr>\n",
       "    <tr>\n",
       "      <th>28</th>\n",
       "      <td>14666228613</td>\n",
       "      <td>SuperJames and Ward</td>\n",
       "      <td>2025-06-01</td>\n",
       "      <td>281.0</td>\n",
       "    </tr>\n",
       "    <tr>\n",
       "      <th>29</th>\n",
       "      <td>14621663272</td>\n",
       "      <td>The Long Way Home</td>\n",
       "      <td>2025-05-28</td>\n",
       "      <td>230.0</td>\n",
       "    </tr>\n",
       "  </tbody>\n",
       "</table>\n",
       "</div>"
      ],
      "text/plain": [
       "             id                            name        date  suffer_score\n",
       "25  14694429401              3 mile Morning Run  2025-06-04          52.0\n",
       "26  14684468262                       SuperFlag  2025-06-03         160.0\n",
       "27  14672337121  Boulder Res run - recovery day  2025-06-02          84.0\n",
       "28  14666228613             SuperJames and Ward  2025-06-01         281.0\n",
       "29  14621663272               The Long Way Home  2025-05-28         230.0"
      ]
     },
     "execution_count": 10,
     "metadata": {},
     "output_type": "execute_result"
    }
   ],
   "source": [
    "# Create a zone dataframe\n",
    "cols = ['id', 'name', 'date', 'suffer_score']\n",
    "data = strava_df.iloc[:,[0,1,2,-4]]\n",
    "strava_zone_df = pd.DataFrame(data, columns=cols)\n",
    "strava_zone_df.tail()"
   ]
  },
  {
   "cell_type": "code",
   "execution_count": 11,
   "id": "e8e6e608-1c93-42ca-ba54-5b69f663c844",
   "metadata": {},
   "outputs": [],
   "source": [
    "# activity ID to inspect\n",
    "# activity_id = 15048399185\n",
    "\n",
    "def get_zones_for_id(activity_id):\n",
    "    print(activity_id)\n",
    "    # endpoint URL\n",
    "    url = f'https://www.strava.com/api/v3/activities/{activity_id}/zones'\n",
    "    # Set up Authorization header and make request\n",
    "    headers = {'Authorization': f'Bearer {access_token}'}\n",
    "    response = requests.get(url, headers=headers)\n",
    "\n",
    "    # Check if the request was successful\n",
    "    if response.status_code == 200:\n",
    "        zones = response.json()\n",
    "    else:\n",
    "        print(f\"Error: {response.status_code}\")\n",
    "        print(response.text)\n",
    "    # create time_in_zones series\n",
    "    zone_series  = pd.DataFrame(zones[0]).iloc[:,1]\n",
    "    time_in_zones = zone_series.apply(lambda z: z['time']/60)\n",
    "    time_in_zones.index = ['Zone1', 'Zone2', 'Zone3', 'Zone4', 'Zone5']\n",
    "    time.sleep(1.1)\n",
    "    return (time_in_zones)"
   ]
  },
  {
   "cell_type": "code",
   "execution_count": null,
   "id": "1231b788-774f-4b93-9418-095229d00950",
   "metadata": {},
   "outputs": [],
   "source": []
  },
  {
   "cell_type": "code",
   "execution_count": 12,
   "id": "996ac4d4-fa6b-4d96-9cd2-8f0f445936a9",
   "metadata": {},
   "outputs": [
    {
     "name": "stdout",
     "output_type": "stream",
     "text": [
      "15061307314\n",
      "15048399185\n",
      "15037283785\n",
      "15027982989\n",
      "15017668877\n",
      "15006491752\n",
      "14975645989\n",
      "14964904782\n",
      "14954454448\n",
      "14944687171\n",
      "14934728422\n",
      "14925456666\n",
      "14915319034\n",
      "14873916201\n",
      "14860197741\n",
      "14854414147\n",
      "14840593381\n",
      "14767120578\n",
      "14758807206\n",
      "14748055178\n",
      "14737389332\n",
      "14727760782\n",
      "14715424784\n",
      "14705554493\n",
      "14694429401\n",
      "14684468262\n",
      "14672337121\n",
      "14666228613\n",
      "14621663272\n"
     ]
    }
   ],
   "source": [
    "zone_df = strava_zone_df['id'].apply(get_zones_for_id)"
   ]
  },
  {
   "cell_type": "code",
   "execution_count": 13,
   "id": "a0cb42bd-7c05-4289-b1d7-f0024582e10b",
   "metadata": {},
   "outputs": [],
   "source": [
    "zone_df['moderate'] = zone_df[['Zone1', 'Zone2']].sum(axis=1)\n",
    "zone_df['intense'] = zone_df[['Zone3', 'Zone4', 'Zone5']].sum(axis=1)\n",
    "# zone_df.head()\n",
    "# concat both dfs\n",
    "strava_zone_df = pd.concat([strava_zone_df, zone_df], axis=1)\n",
    "strava_zone_df"
   ]
  },
  {
   "cell_type": "code",
   "execution_count": null,
   "id": "84eb07af-0f07-48e0-a223-6a5e9ce6b48b",
   "metadata": {},
   "outputs": [],
   "source": []
  },
  {
   "cell_type": "code",
   "execution_count": null,
   "id": "4a407c8d-1ca8-4256-ace0-753ead57a15d",
   "metadata": {},
   "outputs": [],
   "source": []
  },
  {
   "cell_type": "code",
   "execution_count": null,
   "id": "2c4d62ec-9b79-447f-b9e4-16f2300f0262",
   "metadata": {},
   "outputs": [],
   "source": []
  },
  {
   "cell_type": "code",
   "execution_count": null,
   "id": "9a4a84f6-6659-45e8-93c0-bf55fbe156ee",
   "metadata": {},
   "outputs": [],
   "source": []
  }
 ],
 "metadata": {
  "kernelspec": {
   "display_name": "Python 3",
   "language": "python",
   "name": "python3"
  },
  "language_info": {
   "codemirror_mode": {
    "name": "ipython",
    "version": 3
   },
   "file_extension": ".py",
   "mimetype": "text/x-python",
   "name": "python",
   "nbconvert_exporter": "python",
   "pygments_lexer": "ipython3",
   "version": "3.8.8"
  }
 },
 "nbformat": 4,
 "nbformat_minor": 5
}
