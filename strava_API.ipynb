{
 "cells": [
  {
   "cell_type": "raw",
   "id": "40a8cdf3-6912-4544-969e-dfa06c81f3d9",
   "metadata": {},
   "source": [
    "curl -X POST https://www.strava.com/oauth/token \\\n",
    "  -F client_id=167221 \\\n",
    "  -F client_secret=f4df8e0dec7d9d8e725707eaf05037fcc845989d\\\n",
    "  -F code=973f0f86d2e56c3e7ac369809ca6b14fc814a98 \\\n",
    "  -F grant_type=authorization_code"
   ]
  },
  {
   "cell_type": "code",
   "execution_count": 31,
   "id": "e68d160b-0f23-46b0-9e78-04002a26ac80",
   "metadata": {},
   "outputs": [
    {
     "data": {
      "text/plain": [
       "'/Users/edwardterrell/opt/anaconda3/envs/scrape/bin/python'"
      ]
     },
     "execution_count": 31,
     "metadata": {},
     "output_type": "execute_result"
    }
   ],
   "source": [
    "import requests\n",
    "import json\n",
    "import time\n",
    "import os\n",
    "from pprint import pprint\n",
    "import pandas as pd\n",
    "pd.set_option('display.precision', 1)\n",
    "\n",
    "from IPython.core.display import HTML\n",
    "css = open('style-table.css').read() + open('style-notebook.css').read()\n",
    "HTML('<style>{}</style>'.format(css))\n",
    "\n",
    "import sys\n",
    "sys.executable"
   ]
  },
  {
   "cell_type": "code",
   "execution_count": 32,
   "id": "a15549aa-2f40-4e81-b82e-9f19465fbe3b",
   "metadata": {},
   "outputs": [
    {
     "data": {
      "text/plain": [
       "'/Users/edwardterrell/Desktop/Training/kindle/strava'"
      ]
     },
     "execution_count": 32,
     "metadata": {},
     "output_type": "execute_result"
    }
   ],
   "source": [
    "pwd"
   ]
  },
  {
   "cell_type": "code",
   "execution_count": 33,
   "id": "ef1d9104-3a0a-4425-9df4-4ff2739c1fc5",
   "metadata": {},
   "outputs": [
    {
     "name": "stdout",
     "output_type": "stream",
     "text": [
      "Using access token: 9c35e4fa37dd567b30f209628e9c8f976c8f88f8\n",
      "{'id': 723727, 'username': 'eterrell', 'resource_state': 2, 'firstname': 'Ed', 'lastname': 'Terrell', 'bio': '', 'city': 'Boulder', 'state': 'CO', 'country': 'United States', 'sex': 'M', 'premium': True, 'summit': True, 'created_at': '2012-07-05T00:04:09Z', 'updated_at': '2025-06-19T23:51:05Z', 'badge_type_id': 1, 'weight': 61.235, 'profile_medium': 'https://dgalywyr863hv.cloudfront.net/pictures/athletes/723727/20826329/1/medium.jpg', 'profile': 'https://dgalywyr863hv.cloudfront.net/pictures/athletes/723727/20826329/1/large.jpg', 'friend': None, 'follower': None}\n"
     ]
    }
   ],
   "source": [
    "from token_manager import get_valid_access_token\n",
    "import requests\n",
    "\n",
    "access_token = get_valid_access_token()\n",
    "print(\"Using access token:\", access_token)\n",
    "\n",
    "# Make an authenticated API call\n",
    "response = requests.get(\n",
    "    'https://www.strava.com/api/v3/athlete',\n",
    "    headers={'Authorization': f'Bearer {access_token}'}\n",
    ")\n",
    "print(response.json())"
   ]
  },
  {
   "cell_type": "code",
   "execution_count": null,
   "id": "704ffe60-376d-4df7-ad0b-dfe698877eff",
   "metadata": {},
   "outputs": [],
   "source": [
    "# USED ONLY IF token_manager.py isn't generating correctly\n",
    "client_id = 167221\n",
    "client_secret = 'f4df8e0dec7d9d8e725707eaf05037fcc845989d'\n",
    "auth_code = 'd973f0f86d2e56c3e7ac369809ca6b14fc814a98' # stored from last time\n",
    "\n",
    "response = requests.post(\n",
    "    'https://www.strava.com/oauth/token',\n",
    "    data={\n",
    "        'client_id': client_id,\n",
    "        'client_secret': client_secret,\n",
    "        'code': auth_code,\n",
    "        'grant_type': 'authorization_code',\n",
    "    }\n",
    ")\n",
    "# Check and save response\n",
    "if response.status_code == 200:\n",
    "    tokens = response.json()\n",
    "    print(\"✅ Tokens received:\")\n",
    "    print(json.dumps(tokens, indent=2))\n",
    "\n",
    "    # Save to tokens.json for use in token_manager.py\n",
    "    with open(\"tokens.json\", \"w\") as f:\n",
    "        json.dump(tokens, f)\n",
    "else:\n",
    "    print(\"❌ Failed to get tokens:\", response.status_code)\n",
    "    print(response.text)"
   ]
  },
  {
   "cell_type": "code",
   "execution_count": 5,
   "id": "3724f16a-c058-407c-85d3-3cbd1c250999",
   "metadata": {},
   "outputs": [
    {
     "name": "stdout",
     "output_type": "stream",
     "text": [
      "Local time:  2025-07-07 17:32:09\n"
     ]
    }
   ],
   "source": [
    "import datetime\n",
    "expires_at = 1751931129\n",
    "# Convert to datetime object (local time)\n",
    "dt_local = datetime.datetime.fromtimestamp(expires_at)\n",
    "print(\"Local time: \", dt_local)"
   ]
  },
  {
   "cell_type": "code",
   "execution_count": 34,
   "id": "81cd19c4-0abe-4efa-a773-540a8bd3b052",
   "metadata": {},
   "outputs": [
    {
     "data": {
      "text/plain": [
       "200"
      ]
     },
     "execution_count": 34,
     "metadata": {},
     "output_type": "execute_result"
    }
   ],
   "source": [
    "# Get recent activities\n",
    "response = requests.get(\n",
    "    'https://www.strava.com/api/v3/athlete/activities',\n",
    "    headers={'Authorization': f'Bearer {access_token}'}\n",
    ")\n",
    "activities = response.json()\n",
    "response.status_code"
   ]
  },
  {
   "cell_type": "code",
   "execution_count": 35,
   "id": "9f3cf1d4-726d-4ac0-a30f-0017a388847d",
   "metadata": {},
   "outputs": [
    {
     "name": "stdout",
     "output_type": "stream",
     "text": [
      "ID: 15048399185, Name: Jamestown and eats at Lucky's Bakery, Date: 2025-07-08T14:44:02Z\n",
      "ID: 15037283785, Name: Old Stage, Date: 2025-07-07T12:38:38Z\n",
      "ID: 15027982989, Name: North dirt roads to Longmont bike paths and Babettes, Date: 2025-07-06T14:14:42Z\n"
     ]
    }
   ],
   "source": [
    "# Show the first 3 activities with ID and name\n",
    "for activity in activities[:3]:\n",
    "    print(f\"ID: {activity['id']}, Name: {activity['name']}, Date: {activity['start_date']}\")"
   ]
  },
  {
   "cell_type": "markdown",
   "id": "0c6b06d8-6d18-4c90-9408-524b3c6afa4c",
   "metadata": {},
   "source": [
    "### Proof of concept for activity_id"
   ]
  },
  {
   "cell_type": "code",
   "execution_count": 36,
   "id": "f95a08ac-42dc-4c5d-914c-f6d2dff35016",
   "metadata": {},
   "outputs": [
    {
     "name": "stdout",
     "output_type": "stream",
     "text": [
      "101.0\n"
     ]
    },
    {
     "data": {
      "text/plain": [
       "0     21.4\n",
       "1    109.4\n",
       "2     26.1\n",
       "3      0.8\n",
       "4      0.0\n",
       "Name: distribution_buckets, dtype: float64"
      ]
     },
     "execution_count": 36,
     "metadata": {},
     "output_type": "execute_result"
    }
   ],
   "source": [
    "# activity ID you want to inspect\n",
    "activity_id = 15048399185\n",
    "\n",
    "# Define endpoint URL\n",
    "url = f'https://www.strava.com/api/v3/activities/{activity_id}/zones'\n",
    "# Set up Authorization header and make request\n",
    "headers = {'Authorization': f'Bearer {access_token}'}\n",
    "response = requests.get(url, headers=headers)\n",
    "\n",
    "# Check if the request was successful\n",
    "if response.status_code == 200:\n",
    "    zones = response.json()\n",
    "    #pprint(zones[0])\n",
    "else:\n",
    "    print(f\"Error: {response.status_code}\")\n",
    "    print(response.text)\n",
    "\n",
    "zone_series  = pd.DataFrame(zones[0]).iloc[:,1]\n",
    "zone_series\n",
    "\n",
    "suffer_score = pd.DataFrame(zones[0]).iloc[0,0]\n",
    "print(suffer_score)\n",
    "time_in_zones = zone_series.apply(lambda z: z['time']/60)\n",
    "time_in_zones"
   ]
  },
  {
   "cell_type": "code",
   "execution_count": 37,
   "id": "2eed1865-201f-4d6e-8700-4ef9096d8c36",
   "metadata": {},
   "outputs": [
    {
     "data": {
      "text/html": [
       "<div>\n",
       "<style scoped>\n",
       "    .dataframe tbody tr th:only-of-type {\n",
       "        vertical-align: middle;\n",
       "    }\n",
       "\n",
       "    .dataframe tbody tr th {\n",
       "        vertical-align: top;\n",
       "    }\n",
       "\n",
       "    .dataframe thead th {\n",
       "        text-align: right;\n",
       "    }\n",
       "</style>\n",
       "<table border=\"1\" class=\"dataframe\">\n",
       "  <thead>\n",
       "    <tr style=\"text-align: right;\">\n",
       "      <th></th>\n",
       "      <th>id</th>\n",
       "      <th>name</th>\n",
       "      <th>distance</th>\n",
       "      <th>moving_time</th>\n",
       "      <th>total_elevation_gain</th>\n",
       "      <th>sport_type</th>\n",
       "      <th>average_speed</th>\n",
       "      <th>average_heartrate</th>\n",
       "      <th>max_heartrate</th>\n",
       "      <th>suffer_score</th>\n",
       "      <th>start_date</th>\n",
       "    </tr>\n",
       "  </thead>\n",
       "  <tbody>\n",
       "    <tr>\n",
       "      <th>0</th>\n",
       "      <td>15048399185</td>\n",
       "      <td>Jamestown and eats at Lucky's Bakery</td>\n",
       "      <td>60380.4</td>\n",
       "      <td>9467</td>\n",
       "      <td>757.0</td>\n",
       "      <td>Ride</td>\n",
       "      <td>6.4</td>\n",
       "      <td>110.9</td>\n",
       "      <td>140.0</td>\n",
       "      <td>101.0</td>\n",
       "      <td>2025-07-08T14:44:02Z</td>\n",
       "    </tr>\n",
       "    <tr>\n",
       "      <th>1</th>\n",
       "      <td>15037283785</td>\n",
       "      <td>Old Stage</td>\n",
       "      <td>44640.8</td>\n",
       "      <td>7128</td>\n",
       "      <td>430.0</td>\n",
       "      <td>Ride</td>\n",
       "      <td>6.3</td>\n",
       "      <td>109.6</td>\n",
       "      <td>134.0</td>\n",
       "      <td>54.0</td>\n",
       "      <td>2025-07-07T12:38:38Z</td>\n",
       "    </tr>\n",
       "    <tr>\n",
       "      <th>2</th>\n",
       "      <td>15027982989</td>\n",
       "      <td>North dirt roads to Longmont bike paths and Ba...</td>\n",
       "      <td>59511.9</td>\n",
       "      <td>10021</td>\n",
       "      <td>361.6</td>\n",
       "      <td>Ride</td>\n",
       "      <td>5.9</td>\n",
       "      <td>102.5</td>\n",
       "      <td>129.0</td>\n",
       "      <td>47.0</td>\n",
       "      <td>2025-07-06T14:14:42Z</td>\n",
       "    </tr>\n",
       "  </tbody>\n",
       "</table>\n",
       "</div>"
      ],
      "text/plain": [
       "            id                                               name  distance  \\\n",
       "0  15048399185               Jamestown and eats at Lucky's Bakery   60380.4   \n",
       "1  15037283785                                          Old Stage   44640.8   \n",
       "2  15027982989  North dirt roads to Longmont bike paths and Ba...   59511.9   \n",
       "\n",
       "   moving_time  total_elevation_gain sport_type  average_speed  \\\n",
       "0         9467                 757.0       Ride            6.4   \n",
       "1         7128                 430.0       Ride            6.3   \n",
       "2        10021                 361.6       Ride            5.9   \n",
       "\n",
       "   average_heartrate  max_heartrate  suffer_score            start_date  \n",
       "0              110.9          140.0         101.0  2025-07-08T14:44:02Z  \n",
       "1              109.6          134.0          54.0  2025-07-07T12:38:38Z  \n",
       "2              102.5          129.0          47.0  2025-07-06T14:14:42Z  "
      ]
     },
     "execution_count": 37,
     "metadata": {},
     "output_type": "execute_result"
    }
   ],
   "source": [
    "# Build out strava_df with only the necessary columns\n",
    "strava_df = pd.DataFrame(activities)\n",
    "cols_needed = ['id','name', 'distance', 'moving_time','total_elevation_gain', 'sport_type',\n",
    "          'average_speed', 'average_heartrate','max_heartrate', 'suffer_score','start_date']\n",
    "strava_df = strava_df.loc[:,cols_needed]\n",
    "strava_df.head(3)"
   ]
  },
  {
   "cell_type": "code",
   "execution_count": 38,
   "id": "6a3ef4a9-35a5-447b-9f46-5ca57296662c",
   "metadata": {},
   "outputs": [],
   "source": [
    "def cleanup (strava_df):\n",
    "    \"\"\"\n",
    "    Clean and transform Strava activity DataFrame:\n",
    "    - Convert start_date to datetime and extract date\n",
    "    - Convert distance from meters to miles\n",
    "    - Convert moving_time to minutes and add formatted time (hh:mm)\n",
    "    - Convert elevation gain from meters to feet\n",
    "    \"\"\"\n",
    "    # Change to datetime and create new date column\n",
    "    strava_df.start_date = pd.to_datetime(strava_df.start_date) \n",
    "    strava_df['date'] = strava_df.start_date.dt.date\n",
    "    # Change distance to miles\n",
    "    strava_df['distance'] = strava_df['distance'] / 1609.34\n",
    "    # Change moving time to minutes in new col: time\n",
    "    strava_df['time'] = strava_df.moving_time/60\n",
    "    # Convert to timedelta\n",
    "    strava_df.moving_time = pd.to_timedelta(strava_df['moving_time'], unit='s')\n",
    "    # Change to hours/minutes\n",
    "    strava_df['moving_time'] = strava_df['moving_time'].apply(lambda td: f\"{int(td.total_seconds() // 3600)}:{int((td.total_seconds() % 3600) // 60):02}\")\n",
    "    # Change to feet\n",
    "    strava_df.total_elevation_gain = strava_df.total_elevation_gain*3.28084\n",
    "    \n",
    "    return strava_df\n",
    "\n",
    "def convert_speed(row):\n",
    "    if row['sport_type'] == 'Ride':\n",
    "        return row['average_speed'] * 2.23694  # m/s to mph\n",
    "    elif row['sport_type'] == 'Run':\n",
    "        if row['average_speed'] > 0:\n",
    "            pace_sec_per_mile = 1609.34 / row['average_speed']\n",
    "            minutes = int(pace_sec_per_mile // 60)\n",
    "            seconds = int(pace_sec_per_mile % 60)\n",
    "            return f\"{minutes}:{seconds:02d}\"\n",
    "        else:\n",
    "            return \"N/A\"\n",
    "    else:\n",
    "        return None  # for other sports"
   ]
  },
  {
   "cell_type": "code",
   "execution_count": 39,
   "id": "dc18f667-707c-4a6d-80ee-742769857af0",
   "metadata": {},
   "outputs": [],
   "source": [
    "# process data\n",
    "cleanup (strava_df)\n",
    "\n",
    "# add column: converted_speed -mph (ride) and -min/mile (run)\n",
    "strava_df['converted_speed'] = strava_df.apply(convert_speed, axis=1)\n",
    "\n",
    "# Reorder columns\n",
    "new_order = ['id', 'name','date','sport_type',  'distance','moving_time', 'converted_speed', \n",
    "       'total_elevation_gain', 'average_heartrate', 'max_heartrate',\n",
    "       'suffer_score', 'time','average_speed','start_date' ]\n",
    "\n",
    "strava_df = strava_df[new_order]\n",
    "\n",
    "# modify column names\n",
    "strava_df.columns = ['id', 'name', 'date', 'sport', 'distance', 'time',\n",
    "       'speed', 'elev_gain',\n",
    "       'avg_HR', 'max_HR', 'suffer_score', 'time-minutes','average_speed',\n",
    "       'start_date']"
   ]
  },
  {
   "cell_type": "code",
   "execution_count": 40,
   "id": "080d8aa9-d23c-4987-9808-fa9d4a8c1b0a",
   "metadata": {},
   "outputs": [
    {
     "data": {
      "text/html": [
       "<div>\n",
       "<style scoped>\n",
       "    .dataframe tbody tr th:only-of-type {\n",
       "        vertical-align: middle;\n",
       "    }\n",
       "\n",
       "    .dataframe tbody tr th {\n",
       "        vertical-align: top;\n",
       "    }\n",
       "\n",
       "    .dataframe thead th {\n",
       "        text-align: right;\n",
       "    }\n",
       "</style>\n",
       "<table border=\"1\" class=\"dataframe\">\n",
       "  <thead>\n",
       "    <tr style=\"text-align: right;\">\n",
       "      <th></th>\n",
       "      <th>id</th>\n",
       "      <th>name</th>\n",
       "      <th>date</th>\n",
       "      <th>sport</th>\n",
       "      <th>distance</th>\n",
       "      <th>time</th>\n",
       "      <th>speed</th>\n",
       "      <th>elev_gain</th>\n",
       "      <th>avg_HR</th>\n",
       "      <th>max_HR</th>\n",
       "      <th>suffer_score</th>\n",
       "      <th>time-minutes</th>\n",
       "      <th>average_speed</th>\n",
       "      <th>start_date</th>\n",
       "    </tr>\n",
       "  </thead>\n",
       "  <tbody>\n",
       "    <tr>\n",
       "      <th>0</th>\n",
       "      <td>15048399185</td>\n",
       "      <td>Jamestown and eats at Lucky's Bakery</td>\n",
       "      <td>2025-07-08</td>\n",
       "      <td>Ride</td>\n",
       "      <td>37.5</td>\n",
       "      <td>2:37</td>\n",
       "      <td>14.3</td>\n",
       "      <td>2483.6</td>\n",
       "      <td>110.9</td>\n",
       "      <td>140.0</td>\n",
       "      <td>101.0</td>\n",
       "      <td>157.8</td>\n",
       "      <td>6.4</td>\n",
       "      <td>2025-07-08 14:44:02+00:00</td>\n",
       "    </tr>\n",
       "    <tr>\n",
       "      <th>1</th>\n",
       "      <td>15037283785</td>\n",
       "      <td>Old Stage</td>\n",
       "      <td>2025-07-07</td>\n",
       "      <td>Ride</td>\n",
       "      <td>27.7</td>\n",
       "      <td>1:58</td>\n",
       "      <td>14.0</td>\n",
       "      <td>1410.8</td>\n",
       "      <td>109.6</td>\n",
       "      <td>134.0</td>\n",
       "      <td>54.0</td>\n",
       "      <td>118.8</td>\n",
       "      <td>6.3</td>\n",
       "      <td>2025-07-07 12:38:38+00:00</td>\n",
       "    </tr>\n",
       "  </tbody>\n",
       "</table>\n",
       "</div>"
      ],
      "text/plain": [
       "            id                                  name        date sport  \\\n",
       "0  15048399185  Jamestown and eats at Lucky's Bakery  2025-07-08  Ride   \n",
       "1  15037283785                             Old Stage  2025-07-07  Ride   \n",
       "\n",
       "   distance  time speed  elev_gain  avg_HR  max_HR  suffer_score  \\\n",
       "0      37.5  2:37  14.3     2483.6   110.9   140.0         101.0   \n",
       "1      27.7  1:58  14.0     1410.8   109.6   134.0          54.0   \n",
       "\n",
       "   time-minutes  average_speed                start_date  \n",
       "0         157.8            6.4 2025-07-08 14:44:02+00:00  \n",
       "1         118.8            6.3 2025-07-07 12:38:38+00:00  "
      ]
     },
     "execution_count": 40,
     "metadata": {},
     "output_type": "execute_result"
    }
   ],
   "source": [
    "strava_df.head(2)"
   ]
  },
  {
   "cell_type": "markdown",
   "id": "19ada289-267e-4663-9f85-50c8dd101748",
   "metadata": {},
   "source": [
    "### Gather activity data and build activity_df"
   ]
  },
  {
   "cell_type": "code",
   "execution_count": 41,
   "id": "2f5c6eab-67ed-48cd-a387-9e21c9cd65de",
   "metadata": {},
   "outputs": [],
   "source": [
    "# activity ID to inspect\n",
    "activity_id = 15048399185\n",
    "\n",
    "# endpoint URL\n",
    "url = f'https://www.strava.com/api/v3/activities/{activity_id}/zones'\n",
    "# Set up Authorization header and make request\n",
    "headers = {'Authorization': f'Bearer {access_token}'}\n",
    "response = requests.get(url, headers=headers)\n",
    "\n",
    "# Check if the request was successful\n",
    "if response.status_code == 200:\n",
    "    zones = response.json()\n",
    "else:\n",
    "    print(f\"Error: {response.status_code}\")\n",
    "    print(response.text)\n",
    "\n",
    "# Build activity_df\n",
    "activity_df = strava_df.loc[strava_df.id == activity_id, ['name','date']]\n",
    "# add suffer score and total minutes to activity_df\n",
    "activity_df['suffer_score'] = pd.DataFrame(zones[0]).iloc[0,0]\n",
    "\n",
    "# create time_in_zones series\n",
    "zone_series  = pd.DataFrame(zones[0]).iloc[:,1]\n",
    "time_in_zones = zone_series.apply(lambda z: z['time']/60)\n",
    "\n",
    "# Create column names for all zones\n",
    "column_names = [f'Zone{i+1}' for i in range(len(time_in_zones))]\n",
    "# Convert to single-row DataFrame\n",
    "zone_df = pd.DataFrame([time_in_zones.values], columns=column_names)\n",
    "\n",
    "# set index of zond.df to match activity index before merge\n",
    "zone_df.index = activity_df.index\n",
    "activity_df = pd.merge(activity_df, zone_df,left_index=True, right_index=True)\n",
    "\n",
    "# create moderate and intense summary columns\n",
    "activity_df['moderate'] = activity_df.Zone1 + activity_df.Zone2\n",
    "activity_df['intense']= activity_df.Zone3 + activity_df.Zone4 + activity_df.Zone5"
   ]
  },
  {
   "cell_type": "code",
   "execution_count": 42,
   "id": "c75e7976-e834-4240-a499-69557eeedf21",
   "metadata": {},
   "outputs": [
    {
     "data": {
      "text/html": [
       "<div>\n",
       "<style scoped>\n",
       "    .dataframe tbody tr th:only-of-type {\n",
       "        vertical-align: middle;\n",
       "    }\n",
       "\n",
       "    .dataframe tbody tr th {\n",
       "        vertical-align: top;\n",
       "    }\n",
       "\n",
       "    .dataframe thead th {\n",
       "        text-align: right;\n",
       "    }\n",
       "</style>\n",
       "<table border=\"1\" class=\"dataframe\">\n",
       "  <thead>\n",
       "    <tr style=\"text-align: right;\">\n",
       "      <th></th>\n",
       "      <th>name</th>\n",
       "      <th>date</th>\n",
       "      <th>suffer_score</th>\n",
       "      <th>Zone1</th>\n",
       "      <th>Zone2</th>\n",
       "      <th>Zone3</th>\n",
       "      <th>Zone4</th>\n",
       "      <th>Zone5</th>\n",
       "      <th>moderate</th>\n",
       "      <th>intense</th>\n",
       "    </tr>\n",
       "  </thead>\n",
       "  <tbody>\n",
       "    <tr>\n",
       "      <th>0</th>\n",
       "      <td>Jamestown and eats at Lucky's Bakery</td>\n",
       "      <td>2025-07-08</td>\n",
       "      <td>101.0</td>\n",
       "      <td>21.4</td>\n",
       "      <td>109.4</td>\n",
       "      <td>26.1</td>\n",
       "      <td>0.8</td>\n",
       "      <td>0.0</td>\n",
       "      <td>130.8</td>\n",
       "      <td>26.9</td>\n",
       "    </tr>\n",
       "  </tbody>\n",
       "</table>\n",
       "</div>"
      ],
      "text/plain": [
       "                                   name        date  suffer_score  Zone1  \\\n",
       "0  Jamestown and eats at Lucky's Bakery  2025-07-08         101.0   21.4   \n",
       "\n",
       "   Zone2  Zone3  Zone4  Zone5  moderate  intense  \n",
       "0  109.4   26.1    0.8    0.0     130.8     26.9  "
      ]
     },
     "execution_count": 42,
     "metadata": {},
     "output_type": "execute_result"
    }
   ],
   "source": [
    "activity_df"
   ]
  },
  {
   "cell_type": "code",
   "execution_count": null,
   "id": "370853e8-4c93-46c4-9663-d986571393ce",
   "metadata": {},
   "outputs": [],
   "source": []
  },
  {
   "cell_type": "code",
   "execution_count": null,
   "id": "afc87109-13c9-4d3b-8f18-c30f92c0a35b",
   "metadata": {},
   "outputs": [],
   "source": []
  },
  {
   "cell_type": "markdown",
   "id": "1e903502-b9a5-47ff-9fc1-68053abc3819",
   "metadata": {},
   "source": [
    "### Listing what is available "
   ]
  },
  {
   "cell_type": "code",
   "execution_count": null,
   "id": "7fb72516-7b2f-4c0d-a31b-c9bbbf3babe3",
   "metadata": {},
   "outputs": [],
   "source": [
    "from pprint import pprint\n",
    "n=0\n",
    "for activity in activities:\n",
    "    n+=1\n",
    "    if n <= 1:\n",
    "        pprint(activity)"
   ]
  }
 ],
 "metadata": {
  "kernelspec": {
   "display_name": "Python 3",
   "language": "python",
   "name": "python3"
  },
  "language_info": {
   "codemirror_mode": {
    "name": "ipython",
    "version": 3
   },
   "file_extension": ".py",
   "mimetype": "text/x-python",
   "name": "python",
   "nbconvert_exporter": "python",
   "pygments_lexer": "ipython3",
   "version": "3.8.8"
  }
 },
 "nbformat": 4,
 "nbformat_minor": 5
}
