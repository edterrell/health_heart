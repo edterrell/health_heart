{
 "cells": [
  {
   "cell_type": "raw",
   "id": "40a8cdf3-6912-4544-969e-dfa06c81f3d9",
   "metadata": {},
   "source": [
    "curl -X POST https://www.strava.com/oauth/token \\\n",
    "  -F client_id=167221 \\\n",
    "  -F client_secret=f4df8e0dec7d9d8e725707eaf05037fcc845989d\\\n",
    "  -F code=973f0f86d2e56c3e7ac369809ca6b14fc814a98 \\\n",
    "  -F grant_type=authorization_code"
   ]
  },
  {
   "cell_type": "code",
   "execution_count": 88,
   "id": "e68d160b-0f23-46b0-9e78-04002a26ac80",
   "metadata": {},
   "outputs": [
    {
     "data": {
      "text/plain": [
       "'/Users/edwardterrell/opt/anaconda3/envs/scrape311/bin/python'"
      ]
     },
     "execution_count": 88,
     "metadata": {},
     "output_type": "execute_result"
    }
   ],
   "source": [
    "import requests\n",
    "import json\n",
    "import time\n",
    "import os\n",
    "\n",
    "from pprint import pprint\n",
    "import pandas as pd\n",
    "pd.set_option('display.precision', 2)\n",
    "\n",
    "access_token = 'eea5921ffd90fa3c6301ce3970a8bc6ed35ef34b'\n",
    "\n",
    "from IPython.core.display import HTML\n",
    "css = open('style-table.css').read() + open('style-notebook.css').read()\n",
    "HTML('<style>{}</style>'.format(css))\n",
    "\n",
    "import sys\n",
    "sys.executable"
   ]
  },
  {
   "cell_type": "code",
   "execution_count": 89,
   "id": "a15549aa-2f40-4e81-b82e-9f19465fbe3b",
   "metadata": {},
   "outputs": [
    {
     "data": {
      "text/plain": [
       "'/Users/edwardterrell/Desktop/Training/kindle/strava'"
      ]
     },
     "execution_count": 89,
     "metadata": {},
     "output_type": "execute_result"
    }
   ],
   "source": [
    "pwd"
   ]
  },
  {
   "cell_type": "code",
   "execution_count": 90,
   "id": "ef1d9104-3a0a-4425-9df4-4ff2739c1fc5",
   "metadata": {},
   "outputs": [
    {
     "name": "stdout",
     "output_type": "stream",
     "text": [
      "Using access token: 71a22caf16418f0068141e8413120320b3fde178\n",
      "{'id': 723727, 'username': 'eterrell', 'resource_state': 2, 'firstname': 'Ed', 'lastname': 'Terrell', 'bio': '', 'city': 'Boulder', 'state': 'CO', 'country': 'United States', 'sex': 'M', 'premium': True, 'summit': True, 'created_at': '2012-07-05T00:04:09Z', 'updated_at': '2025-06-19T23:51:05Z', 'badge_type_id': 1, 'weight': 61.235, 'profile_medium': 'https://dgalywyr863hv.cloudfront.net/pictures/athletes/723727/20826329/1/medium.jpg', 'profile': 'https://dgalywyr863hv.cloudfront.net/pictures/athletes/723727/20826329/1/large.jpg', 'friend': None, 'follower': None}\n"
     ]
    }
   ],
   "source": [
    "from token_manager import get_valid_access_token\n",
    "import requests\n",
    "\n",
    "access_token = get_valid_access_token()\n",
    "print(\"Using access token:\", access_token)\n",
    "\n",
    "# Make an authenticated API call\n",
    "response = requests.get(\n",
    "    'https://www.strava.com/api/v3/athlete',\n",
    "    headers={'Authorization': f'Bearer {access_token}'}\n",
    ")\n",
    "\n",
    "print(response.json())"
   ]
  },
  {
   "cell_type": "code",
   "execution_count": null,
   "id": "704ffe60-376d-4df7-ad0b-dfe698877eff",
   "metadata": {},
   "outputs": [],
   "source": [
    "# USED ONLY IF token_manager.py isn't generating correctly\n",
    "client_id = 167221\n",
    "client_secret = 'f4df8e0dec7d9d8e725707eaf05037fcc845989d'\n",
    "auth_code = 'd973f0f86d2e56c3e7ac369809ca6b14fc814a98' # stored from last time\n",
    "\n",
    "response = requests.post(\n",
    "    'https://www.strava.com/oauth/token',\n",
    "    data={\n",
    "        'client_id': client_id,\n",
    "        'client_secret': client_secret,\n",
    "        'code': auth_code,\n",
    "        'grant_type': 'authorization_code',\n",
    "    }\n",
    ")\n",
    "# Check and save response\n",
    "if response.status_code == 200:\n",
    "    tokens = response.json()\n",
    "    print(\"✅ Tokens received:\")\n",
    "    print(json.dumps(tokens, indent=2))\n",
    "\n",
    "    # Save to tokens.json for use in token_manager.py\n",
    "    with open(\"tokens.json\", \"w\") as f:\n",
    "        json.dump(tokens, f)\n",
    "else:\n",
    "    print(\"❌ Failed to get tokens:\", response.status_code)\n",
    "    print(response.text)"
   ]
  },
  {
   "cell_type": "raw",
   "id": "d5f14974-407a-4d1c-8c3f-6ba5d4c155af",
   "metadata": {},
   "source": [
    "New access token: 71a22caf16418f0068141e8413120320b3fde178\n",
    "New refresh token: 2b4dc3550fc2e8c80d42e62d24342a7140f1665d\n",
    "Expires at: 1751931129"
   ]
  },
  {
   "cell_type": "code",
   "execution_count": 91,
   "id": "bc28e8cc-b1d9-4533-bcf6-e90b4d392d15",
   "metadata": {},
   "outputs": [
    {
     "data": {
      "text/plain": [
       "'71a22caf16418f0068141e8413120320b3fde178'"
      ]
     },
     "execution_count": 91,
     "metadata": {},
     "output_type": "execute_result"
    }
   ],
   "source": [
    "access_token"
   ]
  },
  {
   "cell_type": "code",
   "execution_count": 92,
   "id": "3724f16a-c058-407c-85d3-3cbd1c250999",
   "metadata": {},
   "outputs": [
    {
     "name": "stdout",
     "output_type": "stream",
     "text": [
      "Local time:  2025-07-07 17:32:09\n"
     ]
    }
   ],
   "source": [
    "import datetime\n",
    "expires_at = 1751931129\n",
    "# Convert to datetime object (local time)\n",
    "dt_local = datetime.datetime.fromtimestamp(expires_at)\n",
    "print(\"Local time: \", dt_local)"
   ]
  },
  {
   "cell_type": "code",
   "execution_count": 93,
   "id": "81cd19c4-0abe-4efa-a773-540a8bd3b052",
   "metadata": {},
   "outputs": [
    {
     "data": {
      "text/plain": [
       "200"
      ]
     },
     "execution_count": 93,
     "metadata": {},
     "output_type": "execute_result"
    }
   ],
   "source": [
    "# Get your recent activities\n",
    "response = requests.get(\n",
    "    'https://www.strava.com/api/v3/athlete/activities',\n",
    "    headers={'Authorization': f'Bearer {access_token}'}\n",
    ")\n",
    "activities = response.json()\n",
    "response.status_code"
   ]
  },
  {
   "cell_type": "code",
   "execution_count": 94,
   "id": "9f3cf1d4-726d-4ac0-a30f-0017a388847d",
   "metadata": {},
   "outputs": [
    {
     "name": "stdout",
     "output_type": "stream",
     "text": [
      "ID: 15037283785, Name: Old Stage, Date: 2025-07-07T12:38:38Z\n",
      "ID: 15027982989, Name: North dirt roads to Longmont bike paths and Babettes, Date: 2025-07-06T14:14:42Z\n",
      "ID: 15017668877, Name: Base of LickSkillet++, Date: 2025-07-05T13:55:37Z\n"
     ]
    }
   ],
   "source": [
    "# Show the first 3 activities with ID and name\n",
    "for activity in activities[:3]:\n",
    "    print(f\"ID: {activity['id']}, Name: {activity['name']}, Date: {activity['start_date']}\")"
   ]
  },
  {
   "cell_type": "code",
   "execution_count": 95,
   "id": "f052d56d-9ac4-49f8-989b-00fb54076771",
   "metadata": {},
   "outputs": [
    {
     "name": "stdout",
     "output_type": "stream",
     "text": [
      "{'custom_zones': False,\n",
      " 'distribution_buckets': [{'max': 93, 'min': 0, 'time': 63.0},\n",
      "                          {'max': 123, 'min': 93, 'time': 4472.0},\n",
      "                          {'max': 138, 'min': 123, 'time': 4347.0},\n",
      "                          {'max': 153, 'min': 138, 'time': 1498.0},\n",
      "                          {'max': -1, 'min': 153, 'time': 0.0}],\n",
      " 'points': 33,\n",
      " 'resource_state': 3,\n",
      " 'score': 230.0,\n",
      " 'sensor_based': True,\n",
      " 'type': 'heartrate'}\n"
     ]
    }
   ],
   "source": [
    "# activity ID you want to inspect\n",
    "activity_id = 15006491752\n",
    "\n",
    "# Define endpoint URL\n",
    "url = f'https://www.strava.com/api/v3/activities/{activity_id}/zones'\n",
    "# Set up Authorization header and make request\n",
    "headers = {'Authorization': f'Bearer {access_token}'}\n",
    "response = requests.get(url, headers=headers)\n",
    "\n",
    "# Check if the request was successful\n",
    "if response.status_code == 200:\n",
    "    zones = response.json()\n",
    "    pprint(zones[0])\n",
    "else:\n",
    "    print(f\"Error: {response.status_code}\")\n",
    "    print(response.text)"
   ]
  },
  {
   "cell_type": "code",
   "execution_count": 96,
   "id": "b6d5b69e-5a4e-41d9-b431-788bc3d23ad7",
   "metadata": {},
   "outputs": [
    {
     "data": {
      "text/plain": [
       "0         {'min': 0, 'max': 93, 'time': 63.0}\n",
       "1     {'min': 93, 'max': 123, 'time': 4472.0}\n",
       "2    {'min': 123, 'max': 138, 'time': 4347.0}\n",
       "3    {'min': 138, 'max': 153, 'time': 1498.0}\n",
       "4        {'min': 153, 'max': -1, 'time': 0.0}\n",
       "Name: distribution_buckets, dtype: object"
      ]
     },
     "execution_count": 96,
     "metadata": {},
     "output_type": "execute_result"
    }
   ],
   "source": [
    "zone_series  = pd.DataFrame(zones[0]).iloc[:,1]\n",
    "zone_series"
   ]
  },
  {
   "cell_type": "code",
   "execution_count": 98,
   "id": "4f15e047-457b-4cad-bffc-be19ffdbf232",
   "metadata": {},
   "outputs": [
    {
     "name": "stdout",
     "output_type": "stream",
     "text": [
      "230.0\n"
     ]
    },
    {
     "data": {
      "text/plain": [
       "0     1.05\n",
       "1    74.53\n",
       "2    72.45\n",
       "3    24.97\n",
       "4     0.00\n",
       "Name: distribution_buckets, dtype: float64"
      ]
     },
     "execution_count": 98,
     "metadata": {},
     "output_type": "execute_result"
    }
   ],
   "source": [
    "suffer_score = pd.DataFrame(zones[0]).iloc[0,0]\n",
    "print(suffer_score)\n",
    "time_in_zones = zone_series.apply(lambda z: z['time']/60)\n",
    "time_in_zones"
   ]
  },
  {
   "cell_type": "code",
   "execution_count": 99,
   "id": "8bdbb4b4-24f3-463e-bf9b-1c8b4066f89e",
   "metadata": {},
   "outputs": [
    {
     "name": "stdout",
     "output_type": "stream",
     "text": [
      "ID: 15037283785, Type: Ride, Name: Old Stage, Date: 2025-07-07T12:38:38Z\n",
      "ID: 15027982989, Type: Ride, Name: North dirt roads to Longmont bike paths and Babettes, Date: 2025-07-06T14:14:42Z\n",
      "ID: 15017668877, Type: Ride, Name: Base of LickSkillet++, Date: 2025-07-05T13:55:37Z\n",
      "ID: 15006491752, Type: Ride, Name: Jamestown - Tempo, Date: 2025-07-04T13:46:37Z\n",
      "ID: 14975645989, Type: Ride, Name: Sunshine Canyon and Wallstreet to base of Switzerland Trail, Date: 2025-07-01T13:58:30Z\n",
      "ID: 14964904782, Type: Ride, Name: Gravel roads north, Date: 2025-06-30T14:38:54Z\n",
      "ID: 14954454448, Type: Ride, Name: Olde Stage, Date: 2025-06-29T14:11:46Z\n",
      "ID: 14944687171, Type: Ride, Name: Ned gravel loop, Date: 2025-06-28T16:10:10Z\n",
      "ID: 14934728422, Type: Ride, Name: St. Louis  Creek  to WP ski area, Date: 2025-06-27T15:23:35Z\n",
      "ID: 14925456666, Type: Ride, Name: RCMP VC Trail Ridge East  Side, Date: 2025-06-26T15:01:06Z\n",
      "ID: 14915319034, Type: Ride, Name: Trail Ridge into the hailstorm, Date: 2025-06-25T14:39:32Z\n",
      "ID: 14873916201, Type: Ride, Name: Old Fall River Road RMNP, Date: 2025-06-21T13:01:33Z\n",
      "ID: 14860197741, Type: Ride, Name: Old Stage, Date: 2025-06-20T11:51:29Z\n",
      "ID: 14854414147, Type: Ride, Name: Oh-My-God road ...a little gravel time, Date: 2025-06-19T14:51:55Z\n",
      "ID: 14840593381, Type: Ride, Name: Jamestown, Date: 2025-06-18T13:58:05Z\n",
      "ID: 14799346420, Type: Run, Name: Santa Rosa plateau, Date: 2025-06-14T16:14:13Z\n",
      "ID: 14767120578, Type: Run, Name: Angry hamstring - mostly a run walk, Date: 2025-06-11T13:00:34Z\n",
      "ID: 14758807206, Type: Ride, Name: Post Beer after Logan and Chapman, Date: 2025-06-10T14:12:21Z\n",
      "ID: 14748055178, Type: Ride, Name: Morning Ride, Date: 2025-06-09T16:10:19Z\n",
      "ID: 14737389332, Type: Ride, Name: Ward, Date: 2025-06-08T14:03:41Z\n",
      "ID: 14727760782, Type: Ride, Name: Winfield meanderings, Date: 2025-06-07T14:19:46Z\n",
      "ID: 14715424784, Type: Ride, Name: SuperFlag #3 and Petunia donuts (team photographer), Date: 2025-06-06T12:19:25Z\n",
      "ID: 14705554493, Type: Ride, Name: SuperFlag #2, Date: 2025-06-05T12:15:41Z\n",
      "ID: 14694429401, Type: Run, Name: 3 mile Morning Run, Date: 2025-06-04T12:26:44Z\n",
      "ID: 14684468262, Type: Ride, Name: SuperFlag, Date: 2025-06-03T13:14:53Z\n",
      "ID: 14672337121, Type: Run, Name: Boulder Res run - recovery day, Date: 2025-06-02T12:32:09Z\n",
      "ID: 14666228613, Type: Ride, Name: SuperJames and Ward, Date: 2025-06-01T14:02:17Z\n",
      "ID: 14621663272, Type: Run, Name: The Long Way Home, Date: 2025-05-28T13:18:10Z\n",
      "ID: 14610831144, Type: Run, Name: Water Tower 1, Date: 2025-05-27T13:13:10Z\n",
      "ID: 14592159474, Type: Run, Name: Flagstaff and Gregory Cyn Descent, Date: 2025-05-25T13:31:41Z\n"
     ]
    }
   ],
   "source": [
    "for activity in activities:\n",
    "    print(f\"ID: {activity['id']}, Type: {activity['sport_type']}, Name: {activity['name']}, Date: {activity['start_date']}\")"
   ]
  },
  {
   "cell_type": "code",
   "execution_count": 100,
   "id": "2eed1865-201f-4d6e-8700-4ef9096d8c36",
   "metadata": {},
   "outputs": [
    {
     "data": {
      "text/html": [
       "<div>\n",
       "<style scoped>\n",
       "    .dataframe tbody tr th:only-of-type {\n",
       "        vertical-align: middle;\n",
       "    }\n",
       "\n",
       "    .dataframe tbody tr th {\n",
       "        vertical-align: top;\n",
       "    }\n",
       "\n",
       "    .dataframe thead th {\n",
       "        text-align: right;\n",
       "    }\n",
       "</style>\n",
       "<table border=\"1\" class=\"dataframe\">\n",
       "  <thead>\n",
       "    <tr style=\"text-align: right;\">\n",
       "      <th></th>\n",
       "      <th>id</th>\n",
       "      <th>name</th>\n",
       "      <th>distance</th>\n",
       "      <th>moving_time</th>\n",
       "      <th>total_elevation_gain</th>\n",
       "      <th>sport_type</th>\n",
       "      <th>average_speed</th>\n",
       "      <th>average_heartrate</th>\n",
       "      <th>max_heartrate</th>\n",
       "      <th>suffer_score</th>\n",
       "      <th>start_date</th>\n",
       "    </tr>\n",
       "  </thead>\n",
       "  <tbody>\n",
       "    <tr>\n",
       "      <th>0</th>\n",
       "      <td>15037283785</td>\n",
       "      <td>Old Stage</td>\n",
       "      <td>44640.8</td>\n",
       "      <td>7128</td>\n",
       "      <td>430.0</td>\n",
       "      <td>Ride</td>\n",
       "      <td>6.26</td>\n",
       "      <td>109.6</td>\n",
       "      <td>134.0</td>\n",
       "      <td>54.0</td>\n",
       "      <td>2025-07-07T12:38:38Z</td>\n",
       "    </tr>\n",
       "    <tr>\n",
       "      <th>1</th>\n",
       "      <td>15027982989</td>\n",
       "      <td>North dirt roads to Longmont bike paths and Ba...</td>\n",
       "      <td>59511.9</td>\n",
       "      <td>10021</td>\n",
       "      <td>361.6</td>\n",
       "      <td>Ride</td>\n",
       "      <td>5.94</td>\n",
       "      <td>102.5</td>\n",
       "      <td>129.0</td>\n",
       "      <td>47.0</td>\n",
       "      <td>2025-07-06T14:14:42Z</td>\n",
       "    </tr>\n",
       "    <tr>\n",
       "      <th>2</th>\n",
       "      <td>15017668877</td>\n",
       "      <td>Base of LickSkillet++</td>\n",
       "      <td>75306.7</td>\n",
       "      <td>13372</td>\n",
       "      <td>1087.6</td>\n",
       "      <td>Ride</td>\n",
       "      <td>5.63</td>\n",
       "      <td>109.9</td>\n",
       "      <td>141.0</td>\n",
       "      <td>117.0</td>\n",
       "      <td>2025-07-05T13:55:37Z</td>\n",
       "    </tr>\n",
       "  </tbody>\n",
       "</table>\n",
       "</div>"
      ],
      "text/plain": [
       "            id                                               name  distance  \\\n",
       "0  15037283785                                          Old Stage   44640.8   \n",
       "1  15027982989  North dirt roads to Longmont bike paths and Ba...   59511.9   \n",
       "2  15017668877                              Base of LickSkillet++   75306.7   \n",
       "\n",
       "   moving_time  total_elevation_gain sport_type  average_speed  \\\n",
       "0         7128                 430.0       Ride           6.26   \n",
       "1        10021                 361.6       Ride           5.94   \n",
       "2        13372                1087.6       Ride           5.63   \n",
       "\n",
       "   average_heartrate  max_heartrate  suffer_score            start_date  \n",
       "0              109.6          134.0          54.0  2025-07-07T12:38:38Z  \n",
       "1              102.5          129.0          47.0  2025-07-06T14:14:42Z  \n",
       "2              109.9          141.0         117.0  2025-07-05T13:55:37Z  "
      ]
     },
     "execution_count": 100,
     "metadata": {},
     "output_type": "execute_result"
    }
   ],
   "source": [
    "strava_df = pd.DataFrame(activities)\n",
    "cols_needed = ['id','name', 'distance', 'moving_time','total_elevation_gain', 'sport_type',\n",
    "          'average_speed', 'average_heartrate','max_heartrate', 'suffer_score','start_date']\n",
    "strava_df = strava_df.loc[:,cols_needed]\n",
    "strava_df.head(3)"
   ]
  },
  {
   "cell_type": "code",
   "execution_count": 101,
   "id": "a5f9ed31-5105-4a13-8afb-6e62cdc06205",
   "metadata": {},
   "outputs": [],
   "source": [
    "# Change to datetime and creat new date column\n",
    "strava_df.start_date = pd.to_datetime(strava_df.start_date) \n",
    "strava_df['date'] = strava_df.start_date.dt.date\n",
    "\n",
    "# Change distance to miles\n",
    "strava_df['distance'] = strava_df['distance'] / 1609.34\n",
    "\n",
    "# Change moving time to minutes in new col: time\n",
    "strava_df['time'] = strava_df.moving_time/60\n",
    "\n",
    "# Convert to timedelta\n",
    "strava_df.moving_time = pd.to_timedelta(strava_df['moving_time'], unit='s')\n",
    "\n",
    "# Change to hours/minutes\n",
    "strava_df['moving_time'] = strava_df['moving_time'].apply(lambda td: f\"{int(td.total_seconds() // 3600)}:{int((td.total_seconds() % 3600) // 60):02}\")\n",
    "\n",
    "# Change to feet\n",
    "strava_df.total_elevation_gain = strava_df.total_elevation_gain*3.28084"
   ]
  },
  {
   "cell_type": "code",
   "execution_count": 102,
   "id": "6c207023-1aa0-4b69-8014-e18c9aed6860",
   "metadata": {},
   "outputs": [],
   "source": [
    "def convert_speed(row):\n",
    "    if row['sport_type'] == 'Ride':\n",
    "        return row['average_speed'] * 2.23694  # m/s to mph\n",
    "    elif row['sport_type'] == 'Run':\n",
    "        if row['average_speed'] > 0:\n",
    "            pace_sec_per_mile = 1609.34 / row['average_speed']\n",
    "            minutes = int(pace_sec_per_mile // 60)\n",
    "            seconds = int(pace_sec_per_mile % 60)\n",
    "            return f\"{minutes}:{seconds:02d}\"\n",
    "        else:\n",
    "            return \"N/A\"\n",
    "    else:\n",
    "        return None  # for other sports\n",
    "\n",
    "strava_df['converted_speed'] = strava_df.apply(convert_speed, axis=1)\n"
   ]
  },
  {
   "cell_type": "code",
   "execution_count": 103,
   "id": "3ece8d37-805d-4fd9-9fa6-506bc45d20ad",
   "metadata": {},
   "outputs": [],
   "source": [
    "new_order = ['id', 'name','date','sport_type',  'distance','moving_time', 'converted_speed', \n",
    "       'total_elevation_gain', 'average_heartrate', 'max_heartrate',\n",
    "       'suffer_score', 'time','average_speed','start_date' ]"
   ]
  },
  {
   "cell_type": "code",
   "execution_count": 104,
   "id": "9bdd9e3b-989d-425a-bea7-3e34829656c5",
   "metadata": {},
   "outputs": [
    {
     "data": {
      "text/html": [
       "<div>\n",
       "<style scoped>\n",
       "    .dataframe tbody tr th:only-of-type {\n",
       "        vertical-align: middle;\n",
       "    }\n",
       "\n",
       "    .dataframe tbody tr th {\n",
       "        vertical-align: top;\n",
       "    }\n",
       "\n",
       "    .dataframe thead th {\n",
       "        text-align: right;\n",
       "    }\n",
       "</style>\n",
       "<table border=\"1\" class=\"dataframe\">\n",
       "  <thead>\n",
       "    <tr style=\"text-align: right;\">\n",
       "      <th></th>\n",
       "      <th>id</th>\n",
       "      <th>name</th>\n",
       "      <th>date</th>\n",
       "      <th>sport_type</th>\n",
       "      <th>distance</th>\n",
       "      <th>moving_time</th>\n",
       "      <th>converted_speed</th>\n",
       "      <th>total_elevation_gain</th>\n",
       "      <th>average_heartrate</th>\n",
       "      <th>max_heartrate</th>\n",
       "      <th>suffer_score</th>\n",
       "      <th>time</th>\n",
       "      <th>average_speed</th>\n",
       "      <th>start_date</th>\n",
       "    </tr>\n",
       "  </thead>\n",
       "  <tbody>\n",
       "    <tr>\n",
       "      <th>0</th>\n",
       "      <td>15037283785</td>\n",
       "      <td>Old Stage</td>\n",
       "      <td>2025-07-07</td>\n",
       "      <td>Ride</td>\n",
       "      <td>27.7</td>\n",
       "      <td>1:58</td>\n",
       "      <td>14.0</td>\n",
       "      <td>1410.8</td>\n",
       "      <td>109.6</td>\n",
       "      <td>134.0</td>\n",
       "      <td>54.0</td>\n",
       "      <td>118.8</td>\n",
       "      <td>6.3</td>\n",
       "      <td>2025-07-07 12:38:38+00:00</td>\n",
       "    </tr>\n",
       "    <tr>\n",
       "      <th>1</th>\n",
       "      <td>15027982989</td>\n",
       "      <td>North dirt roads to Longmont bike paths and Ba...</td>\n",
       "      <td>2025-07-06</td>\n",
       "      <td>Ride</td>\n",
       "      <td>37.0</td>\n",
       "      <td>2:47</td>\n",
       "      <td>13.3</td>\n",
       "      <td>1186.4</td>\n",
       "      <td>102.5</td>\n",
       "      <td>129.0</td>\n",
       "      <td>47.0</td>\n",
       "      <td>167.0</td>\n",
       "      <td>5.9</td>\n",
       "      <td>2025-07-06 14:14:42+00:00</td>\n",
       "    </tr>\n",
       "  </tbody>\n",
       "</table>\n",
       "</div>"
      ],
      "text/plain": [
       "            id                                               name        date  \\\n",
       "0  15037283785                                          Old Stage  2025-07-07   \n",
       "1  15027982989  North dirt roads to Longmont bike paths and Ba...  2025-07-06   \n",
       "\n",
       "  sport_type  distance moving_time converted_speed  total_elevation_gain  \\\n",
       "0       Ride      27.7        1:58            14.0                1410.8   \n",
       "1       Ride      37.0        2:47            13.3                1186.4   \n",
       "\n",
       "   average_heartrate  max_heartrate  suffer_score   time  average_speed  \\\n",
       "0              109.6          134.0          54.0  118.8            6.3   \n",
       "1              102.5          129.0          47.0  167.0            5.9   \n",
       "\n",
       "                 start_date  \n",
       "0 2025-07-07 12:38:38+00:00  \n",
       "1 2025-07-06 14:14:42+00:00  "
      ]
     },
     "execution_count": 104,
     "metadata": {},
     "output_type": "execute_result"
    }
   ],
   "source": [
    "pd.set_option('display.precision', 1)\n",
    "strava_df = strava_df[new_order]\n",
    "strava_df.head(2)"
   ]
  },
  {
   "cell_type": "code",
   "execution_count": 105,
   "id": "5ac1f611-96a7-4bda-bb26-00683d53cb21",
   "metadata": {},
   "outputs": [],
   "source": [
    "strava_df.columns = ['id', 'name', 'date', 'sport', 'distance', 'time',\n",
    "       'speed', 'elev_gain',\n",
    "       'avg_HR', 'max_HR', 'suffer_score', 'time-minutes','average_speed',\n",
    "       'start_date']"
   ]
  },
  {
   "cell_type": "code",
   "execution_count": 106,
   "id": "080d8aa9-d23c-4987-9808-fa9d4a8c1b0a",
   "metadata": {},
   "outputs": [
    {
     "data": {
      "text/html": [
       "<div>\n",
       "<style scoped>\n",
       "    .dataframe tbody tr th:only-of-type {\n",
       "        vertical-align: middle;\n",
       "    }\n",
       "\n",
       "    .dataframe tbody tr th {\n",
       "        vertical-align: top;\n",
       "    }\n",
       "\n",
       "    .dataframe thead th {\n",
       "        text-align: right;\n",
       "    }\n",
       "</style>\n",
       "<table border=\"1\" class=\"dataframe\">\n",
       "  <thead>\n",
       "    <tr style=\"text-align: right;\">\n",
       "      <th></th>\n",
       "      <th>id</th>\n",
       "      <th>name</th>\n",
       "      <th>date</th>\n",
       "      <th>sport</th>\n",
       "      <th>distance</th>\n",
       "      <th>time</th>\n",
       "      <th>speed</th>\n",
       "      <th>elev_gain</th>\n",
       "      <th>avg_HR</th>\n",
       "      <th>max_HR</th>\n",
       "      <th>suffer_score</th>\n",
       "      <th>time-minutes</th>\n",
       "      <th>average_speed</th>\n",
       "      <th>start_date</th>\n",
       "    </tr>\n",
       "  </thead>\n",
       "  <tbody>\n",
       "    <tr>\n",
       "      <th>0</th>\n",
       "      <td>15037283785</td>\n",
       "      <td>Old Stage</td>\n",
       "      <td>2025-07-07</td>\n",
       "      <td>Ride</td>\n",
       "      <td>27.7</td>\n",
       "      <td>1:58</td>\n",
       "      <td>14.0</td>\n",
       "      <td>1410.8</td>\n",
       "      <td>109.6</td>\n",
       "      <td>134.0</td>\n",
       "      <td>54.0</td>\n",
       "      <td>118.8</td>\n",
       "      <td>6.3</td>\n",
       "      <td>2025-07-07 12:38:38+00:00</td>\n",
       "    </tr>\n",
       "    <tr>\n",
       "      <th>1</th>\n",
       "      <td>15027982989</td>\n",
       "      <td>North dirt roads to Longmont bike paths and Ba...</td>\n",
       "      <td>2025-07-06</td>\n",
       "      <td>Ride</td>\n",
       "      <td>37.0</td>\n",
       "      <td>2:47</td>\n",
       "      <td>13.3</td>\n",
       "      <td>1186.4</td>\n",
       "      <td>102.5</td>\n",
       "      <td>129.0</td>\n",
       "      <td>47.0</td>\n",
       "      <td>167.0</td>\n",
       "      <td>5.9</td>\n",
       "      <td>2025-07-06 14:14:42+00:00</td>\n",
       "    </tr>\n",
       "    <tr>\n",
       "      <th>2</th>\n",
       "      <td>15017668877</td>\n",
       "      <td>Base of LickSkillet++</td>\n",
       "      <td>2025-07-05</td>\n",
       "      <td>Ride</td>\n",
       "      <td>46.8</td>\n",
       "      <td>3:42</td>\n",
       "      <td>12.6</td>\n",
       "      <td>3568.2</td>\n",
       "      <td>109.9</td>\n",
       "      <td>141.0</td>\n",
       "      <td>117.0</td>\n",
       "      <td>222.9</td>\n",
       "      <td>5.6</td>\n",
       "      <td>2025-07-05 13:55:37+00:00</td>\n",
       "    </tr>\n",
       "    <tr>\n",
       "      <th>3</th>\n",
       "      <td>15006491752</td>\n",
       "      <td>Jamestown - Tempo</td>\n",
       "      <td>2025-07-04</td>\n",
       "      <td>Ride</td>\n",
       "      <td>39.1</td>\n",
       "      <td>2:53</td>\n",
       "      <td>13.5</td>\n",
       "      <td>2710.0</td>\n",
       "      <td>125.1</td>\n",
       "      <td>147.0</td>\n",
       "      <td>230.0</td>\n",
       "      <td>173.0</td>\n",
       "      <td>6.1</td>\n",
       "      <td>2025-07-04 13:46:37+00:00</td>\n",
       "    </tr>\n",
       "  </tbody>\n",
       "</table>\n",
       "</div>"
      ],
      "text/plain": [
       "            id                                               name        date  \\\n",
       "0  15037283785                                          Old Stage  2025-07-07   \n",
       "1  15027982989  North dirt roads to Longmont bike paths and Ba...  2025-07-06   \n",
       "2  15017668877                              Base of LickSkillet++  2025-07-05   \n",
       "3  15006491752                                  Jamestown - Tempo  2025-07-04   \n",
       "\n",
       "  sport  distance  time speed  elev_gain  avg_HR  max_HR  suffer_score  \\\n",
       "0  Ride      27.7  1:58  14.0     1410.8   109.6   134.0          54.0   \n",
       "1  Ride      37.0  2:47  13.3     1186.4   102.5   129.0          47.0   \n",
       "2  Ride      46.8  3:42  12.6     3568.2   109.9   141.0         117.0   \n",
       "3  Ride      39.1  2:53  13.5     2710.0   125.1   147.0         230.0   \n",
       "\n",
       "   time-minutes  average_speed                start_date  \n",
       "0         118.8            6.3 2025-07-07 12:38:38+00:00  \n",
       "1         167.0            5.9 2025-07-06 14:14:42+00:00  \n",
       "2         222.9            5.6 2025-07-05 13:55:37+00:00  \n",
       "3         173.0            6.1 2025-07-04 13:46:37+00:00  "
      ]
     },
     "execution_count": 106,
     "metadata": {},
     "output_type": "execute_result"
    }
   ],
   "source": [
    "strava_df.head(4)"
   ]
  },
  {
   "cell_type": "code",
   "execution_count": 107,
   "id": "9028a716-7dd2-420a-b222-44d60ceb579f",
   "metadata": {},
   "outputs": [],
   "source": [
    "# activity ID to inspect\n",
    "activity_id = 15006491752\n",
    "# endpoint URL\n",
    "url = f'https://www.strava.com/api/v3/activities/{activity_id}/zones'\n",
    "# Set up Authorization header and make request\n",
    "headers = {'Authorization': f'Bearer {access_token}'}\n",
    "response = requests.get(url, headers=headers)\n",
    "\n",
    "# Check if the request was successful\n",
    "if response.status_code == 200:\n",
    "    zones = response.json()\n",
    "else:\n",
    "    print(f\"Error: {response.status_code}\")\n",
    "    print(response.text)"
   ]
  },
  {
   "cell_type": "code",
   "execution_count": 108,
   "id": "74505ecd-1afb-41da-96a5-4fa00fc60768",
   "metadata": {},
   "outputs": [],
   "source": [
    "activity_df = strava_df.loc[strava_df.id == 15006491752, ['name','date']]"
   ]
  },
  {
   "cell_type": "code",
   "execution_count": 109,
   "id": "be6127a6-cc43-4163-839c-d7bb3019ec9f",
   "metadata": {},
   "outputs": [
    {
     "data": {
      "text/html": [
       "<div>\n",
       "<style scoped>\n",
       "    .dataframe tbody tr th:only-of-type {\n",
       "        vertical-align: middle;\n",
       "    }\n",
       "\n",
       "    .dataframe tbody tr th {\n",
       "        vertical-align: top;\n",
       "    }\n",
       "\n",
       "    .dataframe thead th {\n",
       "        text-align: right;\n",
       "    }\n",
       "</style>\n",
       "<table border=\"1\" class=\"dataframe\">\n",
       "  <thead>\n",
       "    <tr style=\"text-align: right;\">\n",
       "      <th></th>\n",
       "      <th>name</th>\n",
       "      <th>date</th>\n",
       "    </tr>\n",
       "  </thead>\n",
       "  <tbody>\n",
       "    <tr>\n",
       "      <th>3</th>\n",
       "      <td>Jamestown - Tempo</td>\n",
       "      <td>2025-07-04</td>\n",
       "    </tr>\n",
       "  </tbody>\n",
       "</table>\n",
       "</div>"
      ],
      "text/plain": [
       "                name        date\n",
       "3  Jamestown - Tempo  2025-07-04"
      ]
     },
     "execution_count": 109,
     "metadata": {},
     "output_type": "execute_result"
    }
   ],
   "source": [
    "activity_df"
   ]
  },
  {
   "cell_type": "code",
   "execution_count": 115,
   "id": "f602ee48-a15b-4e9f-98c0-3acdf1d07910",
   "metadata": {},
   "outputs": [
    {
     "name": "stdout",
     "output_type": "stream",
     "text": [
      "Date:  2025-07-04\n",
      "Name:  Jamestown - Tempo\n",
      "Suffer Score:  230.0\n",
      "Total Time: 173.0 minutes\n"
     ]
    },
    {
     "data": {
      "text/plain": [
       "0     1.1\n",
       "1    74.5\n",
       "2    72.5\n",
       "3    25.0\n",
       "4     0.0\n",
       "Name: distribution_buckets, dtype: float64"
      ]
     },
     "execution_count": 115,
     "metadata": {},
     "output_type": "execute_result"
    }
   ],
   "source": [
    "Date = activity_df.iloc[0,1]\n",
    "print(f\"Date: \", Date)\n",
    "name = activity_df.iloc[0,0]\n",
    "print(f\"Name: \", name)\n",
    "\n",
    "suffer_score = pd.DataFrame(zones[0]).iloc[0,0]\n",
    "print(f\"Suffer Score: \",suffer_score)\n",
    "zone_series  = pd.DataFrame(zones[0]).iloc[:,1]\n",
    "time_in_zones = zone_series.apply(lambda z: z['time']/60)\n",
    "total_minutes = time_in_zones.sum()\n",
    "print (f\"Total Time: {total_minutes:.1f} minutes\")\n",
    "time_in_zones"
   ]
  },
  {
   "cell_type": "code",
   "execution_count": null,
   "id": "f9a620bb-d11d-4337-8f2d-7a489835ff12",
   "metadata": {},
   "outputs": [],
   "source": [
    "activity_df['suffer_score'] = pd.DataFrame(zones[0]).iloc[0,0]\n",
    "activity_df['total_minutes'] = time_in_zones.sum()"
   ]
  },
  {
   "cell_type": "code",
   "execution_count": 120,
   "id": "c8ce99c5-f72c-41fb-82c6-5ae61610be6a",
   "metadata": {},
   "outputs": [
    {
     "data": {
      "text/html": [
       "<div>\n",
       "<style scoped>\n",
       "    .dataframe tbody tr th:only-of-type {\n",
       "        vertical-align: middle;\n",
       "    }\n",
       "\n",
       "    .dataframe tbody tr th {\n",
       "        vertical-align: top;\n",
       "    }\n",
       "\n",
       "    .dataframe thead th {\n",
       "        text-align: right;\n",
       "    }\n",
       "</style>\n",
       "<table border=\"1\" class=\"dataframe\">\n",
       "  <thead>\n",
       "    <tr style=\"text-align: right;\">\n",
       "      <th></th>\n",
       "      <th>name</th>\n",
       "      <th>date</th>\n",
       "      <th>suffer_score</th>\n",
       "      <th>total_minutes</th>\n",
       "    </tr>\n",
       "  </thead>\n",
       "  <tbody>\n",
       "    <tr>\n",
       "      <th>3</th>\n",
       "      <td>Jamestown - Tempo</td>\n",
       "      <td>2025-07-04</td>\n",
       "      <td>230.0</td>\n",
       "      <td>173.0</td>\n",
       "    </tr>\n",
       "  </tbody>\n",
       "</table>\n",
       "</div>"
      ],
      "text/plain": [
       "                name        date  suffer_score  total_minutes\n",
       "3  Jamestown - Tempo  2025-07-04         230.0          173.0"
      ]
     },
     "execution_count": 120,
     "metadata": {},
     "output_type": "execute_result"
    }
   ],
   "source": [
    "activity_df"
   ]
  },
  {
   "cell_type": "code",
   "execution_count": 121,
   "id": "9f97ae00-4043-4d73-b008-0a542063f32a",
   "metadata": {},
   "outputs": [
    {
     "data": {
      "text/plain": [
       "0     1.1\n",
       "1    74.5\n",
       "2    72.5\n",
       "3    25.0\n",
       "4     0.0\n",
       "Name: distribution_buckets, dtype: float64"
      ]
     },
     "execution_count": 121,
     "metadata": {},
     "output_type": "execute_result"
    }
   ],
   "source": [
    "zone_series  = pd.DataFrame(zones[0]).iloc[:,1]\n",
    "time_in_zones = zone_series.apply(lambda z: z['time']/60)\n",
    "time_in_zones"
   ]
  },
  {
   "cell_type": "code",
   "execution_count": 122,
   "id": "696994c7-2086-43dc-a683-9300c10cdf80",
   "metadata": {},
   "outputs": [
    {
     "data": {
      "text/html": [
       "<div>\n",
       "<style scoped>\n",
       "    .dataframe tbody tr th:only-of-type {\n",
       "        vertical-align: middle;\n",
       "    }\n",
       "\n",
       "    .dataframe tbody tr th {\n",
       "        vertical-align: top;\n",
       "    }\n",
       "\n",
       "    .dataframe thead th {\n",
       "        text-align: right;\n",
       "    }\n",
       "</style>\n",
       "<table border=\"1\" class=\"dataframe\">\n",
       "  <thead>\n",
       "    <tr style=\"text-align: right;\">\n",
       "      <th></th>\n",
       "      <th>times</th>\n",
       "    </tr>\n",
       "  </thead>\n",
       "  <tbody>\n",
       "    <tr>\n",
       "      <th>0</th>\n",
       "      <td>1.1</td>\n",
       "    </tr>\n",
       "    <tr>\n",
       "      <th>1</th>\n",
       "      <td>74.5</td>\n",
       "    </tr>\n",
       "    <tr>\n",
       "      <th>2</th>\n",
       "      <td>72.5</td>\n",
       "    </tr>\n",
       "    <tr>\n",
       "      <th>3</th>\n",
       "      <td>25.0</td>\n",
       "    </tr>\n",
       "    <tr>\n",
       "      <th>4</th>\n",
       "      <td>0.0</td>\n",
       "    </tr>\n",
       "  </tbody>\n",
       "</table>\n",
       "</div>"
      ],
      "text/plain": [
       "   times\n",
       "0    1.1\n",
       "1   74.5\n",
       "2   72.5\n",
       "3   25.0\n",
       "4    0.0"
      ]
     },
     "execution_count": 122,
     "metadata": {},
     "output_type": "execute_result"
    }
   ],
   "source": [
    "time_in_zones.to_frame('times')"
   ]
  },
  {
   "cell_type": "code",
   "execution_count": 123,
   "id": "1f04458d-2633-4422-8fb4-51020437be58",
   "metadata": {},
   "outputs": [],
   "source": [
    "# Create new column names\n",
    "column_names = [f'Zone{i+1}' for i in range(len(time_in_zones))]\n",
    "\n",
    "# Convert to single-row DataFrame\n",
    "zone_df = pd.DataFrame([time_in_zones.values], columns=column_names)"
   ]
  },
  {
   "cell_type": "code",
   "execution_count": 125,
   "id": "33e28250-3f20-462d-a9f3-3967fef58908",
   "metadata": {},
   "outputs": [
    {
     "data": {
      "text/html": [
       "<div>\n",
       "<style scoped>\n",
       "    .dataframe tbody tr th:only-of-type {\n",
       "        vertical-align: middle;\n",
       "    }\n",
       "\n",
       "    .dataframe tbody tr th {\n",
       "        vertical-align: top;\n",
       "    }\n",
       "\n",
       "    .dataframe thead th {\n",
       "        text-align: right;\n",
       "    }\n",
       "</style>\n",
       "<table border=\"1\" class=\"dataframe\">\n",
       "  <thead>\n",
       "    <tr style=\"text-align: right;\">\n",
       "      <th></th>\n",
       "      <th>Zone1</th>\n",
       "      <th>Zone2</th>\n",
       "      <th>Zone3</th>\n",
       "      <th>Zone4</th>\n",
       "      <th>Zone5</th>\n",
       "    </tr>\n",
       "  </thead>\n",
       "  <tbody>\n",
       "    <tr>\n",
       "      <th>3</th>\n",
       "      <td>1.1</td>\n",
       "      <td>74.5</td>\n",
       "      <td>72.5</td>\n",
       "      <td>25.0</td>\n",
       "      <td>0.0</td>\n",
       "    </tr>\n",
       "  </tbody>\n",
       "</table>\n",
       "</div>"
      ],
      "text/plain": [
       "   Zone1  Zone2  Zone3  Zone4  Zone5\n",
       "3    1.1   74.5   72.5   25.0    0.0"
      ]
     },
     "execution_count": 125,
     "metadata": {},
     "output_type": "execute_result"
    }
   ],
   "source": [
    "zone_df.index = activity_df.index\n",
    "zone_df"
   ]
  },
  {
   "cell_type": "code",
   "execution_count": 129,
   "id": "8c54276f-fe31-40f1-ac1f-acad1a076220",
   "metadata": {},
   "outputs": [
    {
     "data": {
      "text/html": [
       "<div>\n",
       "<style scoped>\n",
       "    .dataframe tbody tr th:only-of-type {\n",
       "        vertical-align: middle;\n",
       "    }\n",
       "\n",
       "    .dataframe tbody tr th {\n",
       "        vertical-align: top;\n",
       "    }\n",
       "\n",
       "    .dataframe thead th {\n",
       "        text-align: right;\n",
       "    }\n",
       "</style>\n",
       "<table border=\"1\" class=\"dataframe\">\n",
       "  <thead>\n",
       "    <tr style=\"text-align: right;\">\n",
       "      <th></th>\n",
       "      <th>name</th>\n",
       "      <th>date</th>\n",
       "      <th>suffer_score</th>\n",
       "      <th>total_minutes</th>\n",
       "      <th>Zone1</th>\n",
       "      <th>Zone2</th>\n",
       "      <th>Zone3</th>\n",
       "      <th>Zone4</th>\n",
       "      <th>Zone5</th>\n",
       "    </tr>\n",
       "  </thead>\n",
       "  <tbody>\n",
       "    <tr>\n",
       "      <th>3</th>\n",
       "      <td>Jamestown - Tempo</td>\n",
       "      <td>2025-07-04</td>\n",
       "      <td>230.0</td>\n",
       "      <td>173.0</td>\n",
       "      <td>1.1</td>\n",
       "      <td>74.5</td>\n",
       "      <td>72.5</td>\n",
       "      <td>25.0</td>\n",
       "      <td>0.0</td>\n",
       "    </tr>\n",
       "  </tbody>\n",
       "</table>\n",
       "</div>"
      ],
      "text/plain": [
       "                name        date  suffer_score  total_minutes  Zone1  Zone2  \\\n",
       "3  Jamestown - Tempo  2025-07-04         230.0          173.0    1.1   74.5   \n",
       "\n",
       "   Zone3  Zone4  Zone5  \n",
       "3   72.5   25.0    0.0  "
      ]
     },
     "execution_count": 129,
     "metadata": {},
     "output_type": "execute_result"
    }
   ],
   "source": [
    "activity_df = pd.merge(activity_df, zone_df,left_index=True, right_index=True)\n",
    "activity_df"
   ]
  },
  {
   "cell_type": "code",
   "execution_count": 130,
   "id": "e88e6ca8-2288-477f-ae7c-1e9458832f5f",
   "metadata": {},
   "outputs": [],
   "source": [
    "activity_df['moderate'] = activity_df.Zone1 + activity_df.Zone2\n",
    "activity_df['hard']= activity_df.Zone3 + activity_df.Zone4 + activity_df.Zone5"
   ]
  },
  {
   "cell_type": "code",
   "execution_count": 131,
   "id": "718fd073-803c-4420-88e3-67af949a9773",
   "metadata": {},
   "outputs": [
    {
     "data": {
      "text/html": [
       "<div>\n",
       "<style scoped>\n",
       "    .dataframe tbody tr th:only-of-type {\n",
       "        vertical-align: middle;\n",
       "    }\n",
       "\n",
       "    .dataframe tbody tr th {\n",
       "        vertical-align: top;\n",
       "    }\n",
       "\n",
       "    .dataframe thead th {\n",
       "        text-align: right;\n",
       "    }\n",
       "</style>\n",
       "<table border=\"1\" class=\"dataframe\">\n",
       "  <thead>\n",
       "    <tr style=\"text-align: right;\">\n",
       "      <th></th>\n",
       "      <th>name</th>\n",
       "      <th>date</th>\n",
       "      <th>suffer_score</th>\n",
       "      <th>total_minutes</th>\n",
       "      <th>Zone1</th>\n",
       "      <th>Zone2</th>\n",
       "      <th>Zone3</th>\n",
       "      <th>Zone4</th>\n",
       "      <th>Zone5</th>\n",
       "      <th>moderate</th>\n",
       "      <th>hard</th>\n",
       "    </tr>\n",
       "  </thead>\n",
       "  <tbody>\n",
       "    <tr>\n",
       "      <th>3</th>\n",
       "      <td>Jamestown - Tempo</td>\n",
       "      <td>2025-07-04</td>\n",
       "      <td>230.0</td>\n",
       "      <td>173.0</td>\n",
       "      <td>1.1</td>\n",
       "      <td>74.5</td>\n",
       "      <td>72.5</td>\n",
       "      <td>25.0</td>\n",
       "      <td>0.0</td>\n",
       "      <td>75.6</td>\n",
       "      <td>97.4</td>\n",
       "    </tr>\n",
       "  </tbody>\n",
       "</table>\n",
       "</div>"
      ],
      "text/plain": [
       "                name        date  suffer_score  total_minutes  Zone1  Zone2  \\\n",
       "3  Jamestown - Tempo  2025-07-04         230.0          173.0    1.1   74.5   \n",
       "\n",
       "   Zone3  Zone4  Zone5  moderate  hard  \n",
       "3   72.5   25.0    0.0      75.6  97.4  "
      ]
     },
     "execution_count": 131,
     "metadata": {},
     "output_type": "execute_result"
    }
   ],
   "source": [
    "activity_df"
   ]
  },
  {
   "cell_type": "code",
   "execution_count": null,
   "id": "fa585004-4c9a-4c58-b356-6eaf2bf9db38",
   "metadata": {},
   "outputs": [],
   "source": []
  },
  {
   "cell_type": "code",
   "execution_count": null,
   "id": "2528c006-deab-428d-be0a-77dd61d8cd5b",
   "metadata": {},
   "outputs": [],
   "source": []
  },
  {
   "cell_type": "code",
   "execution_count": null,
   "id": "c75e7976-e834-4240-a499-69557eeedf21",
   "metadata": {},
   "outputs": [],
   "source": []
  },
  {
   "cell_type": "code",
   "execution_count": null,
   "id": "370853e8-4c93-46c4-9663-d986571393ce",
   "metadata": {},
   "outputs": [],
   "source": []
  },
  {
   "cell_type": "code",
   "execution_count": null,
   "id": "afc87109-13c9-4d3b-8f18-c30f92c0a35b",
   "metadata": {},
   "outputs": [],
   "source": []
  },
  {
   "cell_type": "markdown",
   "id": "1e903502-b9a5-47ff-9fc1-68053abc3819",
   "metadata": {},
   "source": [
    "### Listing what is available "
   ]
  },
  {
   "cell_type": "code",
   "execution_count": null,
   "id": "7fb72516-7b2f-4c0d-a31b-c9bbbf3babe3",
   "metadata": {},
   "outputs": [],
   "source": [
    "from pprint import pprint\n",
    "n=0\n",
    "for activity in activities:\n",
    "    n+=1\n",
    "    if n <= 1:\n",
    "        pprint(activity)"
   ]
  }
 ],
 "metadata": {
  "kernelspec": {
   "display_name": "Python 3 (ipykernel)",
   "language": "python",
   "name": "python3"
  },
  "language_info": {
   "codemirror_mode": {
    "name": "ipython",
    "version": 3
   },
   "file_extension": ".py",
   "mimetype": "text/x-python",
   "name": "python",
   "nbconvert_exporter": "python",
   "pygments_lexer": "ipython3",
   "version": "3.11.13"
  }
 },
 "nbformat": 4,
 "nbformat_minor": 5
}
