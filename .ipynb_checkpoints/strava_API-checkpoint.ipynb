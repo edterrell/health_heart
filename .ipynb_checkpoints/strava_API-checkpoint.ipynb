{
 "cells": [
  {
   "cell_type": "raw",
   "id": "40a8cdf3-6912-4544-969e-dfa06c81f3d9",
   "metadata": {},
   "source": [
    "curl -X POST https://www.strava.com/oauth/token \\\n",
    "  -F client_id=167221 \\\n",
    "  -F client_secret=f4df8e0dec7d9d8e725707eaf05037fcc845989d\\\n",
    "  -F code=973f0f86d2e56c3e7ac369809ca6b14fc814a98 \\\n",
    "  -F grant_type=authorization_code"
   ]
  },
  {
   "cell_type": "code",
   "execution_count": 1,
   "id": "e68d160b-0f23-46b0-9e78-04002a26ac80",
   "metadata": {},
   "outputs": [
    {
     "data": {
      "text/plain": [
       "'/Users/edwardterrell/opt/anaconda3/envs/scrape311/bin/python'"
      ]
     },
     "execution_count": 1,
     "metadata": {},
     "output_type": "execute_result"
    }
   ],
   "source": [
    "import requests\n",
    "import json\n",
    "import time\n",
    "import os\n",
    "\n",
    "from pprint import pprint\n",
    "import pandas as pd\n",
    "pd.set_option('display.precision', 2)\n",
    "\n",
    "access_token = 'eea5921ffd90fa3c6301ce3970a8bc6ed35ef34b'\n",
    "\n",
    "from IPython.core.display import HTML\n",
    "css = open('style-table.css').read() + open('style-notebook.css').read()\n",
    "HTML('<style>{}</style>'.format(css))\n",
    "\n",
    "import sys\n",
    "sys.executable"
   ]
  },
  {
   "cell_type": "code",
   "execution_count": 2,
   "id": "a15549aa-2f40-4e81-b82e-9f19465fbe3b",
   "metadata": {},
   "outputs": [
    {
     "data": {
      "text/plain": [
       "'/Users/edwardterrell/Desktop/Training/kindle/strava'"
      ]
     },
     "execution_count": 2,
     "metadata": {},
     "output_type": "execute_result"
    }
   ],
   "source": [
    "pwd"
   ]
  },
  {
   "cell_type": "code",
   "execution_count": 3,
   "id": "ef1d9104-3a0a-4425-9df4-4ff2739c1fc5",
   "metadata": {},
   "outputs": [
    {
     "name": "stdout",
     "output_type": "stream",
     "text": [
      "Using access token: 71a22caf16418f0068141e8413120320b3fde178\n",
      "{'id': 723727, 'username': 'eterrell', 'resource_state': 2, 'firstname': 'Ed', 'lastname': 'Terrell', 'bio': '', 'city': 'Boulder', 'state': 'CO', 'country': 'United States', 'sex': 'M', 'premium': True, 'summit': True, 'created_at': '2012-07-05T00:04:09Z', 'updated_at': '2025-06-19T23:51:05Z', 'badge_type_id': 1, 'weight': 61.235, 'profile_medium': 'https://dgalywyr863hv.cloudfront.net/pictures/athletes/723727/20826329/1/medium.jpg', 'profile': 'https://dgalywyr863hv.cloudfront.net/pictures/athletes/723727/20826329/1/large.jpg', 'friend': None, 'follower': None}\n"
     ]
    }
   ],
   "source": [
    "from token_manager import get_valid_access_token\n",
    "import requests\n",
    "\n",
    "access_token = get_valid_access_token()\n",
    "print(\"Using access token:\", access_token)\n",
    "\n",
    "# Make an authenticated API call\n",
    "response = requests.get(\n",
    "    'https://www.strava.com/api/v3/athlete',\n",
    "    headers={'Authorization': f'Bearer {access_token}'}\n",
    ")\n",
    "\n",
    "print(response.json())"
   ]
  },
  {
   "cell_type": "code",
   "execution_count": null,
   "id": "704ffe60-376d-4df7-ad0b-dfe698877eff",
   "metadata": {},
   "outputs": [],
   "source": [
    "# USED ONLY IF token_manager.py isn't generating correctly\n",
    "client_id = 167221\n",
    "client_secret = 'f4df8e0dec7d9d8e725707eaf05037fcc845989d'\n",
    "auth_code = 'd973f0f86d2e56c3e7ac369809ca6b14fc814a98' # stored from last time\n",
    "\n",
    "response = requests.post(\n",
    "    'https://www.strava.com/oauth/token',\n",
    "    data={\n",
    "        'client_id': client_id,\n",
    "        'client_secret': client_secret,\n",
    "        'code': auth_code,\n",
    "        'grant_type': 'authorization_code',\n",
    "    }\n",
    ")\n",
    "# Check and save response\n",
    "if response.status_code == 200:\n",
    "    tokens = response.json()\n",
    "    print(\"✅ Tokens received:\")\n",
    "    print(json.dumps(tokens, indent=2))\n",
    "\n",
    "    # Save to tokens.json for use in token_manager.py\n",
    "    with open(\"tokens.json\", \"w\") as f:\n",
    "        json.dump(tokens, f)\n",
    "else:\n",
    "    print(\"❌ Failed to get tokens:\", response.status_code)\n",
    "    print(response.text)"
   ]
  },
  {
   "cell_type": "code",
   "execution_count": 4,
   "id": "2a3071c3-5c27-4a09-915f-09ed8c21f4e0",
   "metadata": {},
   "outputs": [
    {
     "ename": "KeyError",
     "evalue": "'access_token'",
     "output_type": "error",
     "traceback": [
      "\u001b[31m---------------------------------------------------------------------------\u001b[39m",
      "\u001b[31mKeyError\u001b[39m                                  Traceback (most recent call last)",
      "\u001b[36mCell\u001b[39m\u001b[36m \u001b[39m\u001b[32mIn[4]\u001b[39m\u001b[32m, line 3\u001b[39m\n\u001b[32m      1\u001b[39m new_tokens = response.json()\n\u001b[32m      2\u001b[39m \u001b[38;5;66;03m# Print or store the new tokens\u001b[39;00m\n\u001b[32m----> \u001b[39m\u001b[32m3\u001b[39m \u001b[38;5;28mprint\u001b[39m(\u001b[33m\"\u001b[39m\u001b[33mNew access token:\u001b[39m\u001b[33m\"\u001b[39m, new_tokens[\u001b[33m'\u001b[39m\u001b[33maccess_token\u001b[39m\u001b[33m'\u001b[39m])\n\u001b[32m      4\u001b[39m \u001b[38;5;28mprint\u001b[39m(\u001b[33m\"\u001b[39m\u001b[33mNew refresh token:\u001b[39m\u001b[33m\"\u001b[39m, new_tokens[\u001b[33m'\u001b[39m\u001b[33mrefresh_token\u001b[39m\u001b[33m'\u001b[39m])\n\u001b[32m      5\u001b[39m \u001b[38;5;28mprint\u001b[39m(\u001b[33m\"\u001b[39m\u001b[33mExpires at:\u001b[39m\u001b[33m\"\u001b[39m, new_tokens[\u001b[33m'\u001b[39m\u001b[33mexpires_at\u001b[39m\u001b[33m'\u001b[39m])\n",
      "\u001b[31mKeyError\u001b[39m: 'access_token'"
     ]
    }
   ],
   "source": [
    "new_tokens = response.json()\n",
    "# Print or store the new tokens\n",
    "print(\"New access token:\", new_tokens['access_token'])\n",
    "print(\"New refresh token:\", new_tokens['refresh_token'])\n",
    "print(\"Expires at:\", new_tokens['expires_at'])"
   ]
  },
  {
   "cell_type": "raw",
   "id": "d5f14974-407a-4d1c-8c3f-6ba5d4c155af",
   "metadata": {},
   "source": [
    "New access token: 71a22caf16418f0068141e8413120320b3fde178\n",
    "New refresh token: 2b4dc3550fc2e8c80d42e62d24342a7140f1665d\n",
    "Expires at: 1751931129"
   ]
  },
  {
   "cell_type": "code",
   "execution_count": 5,
   "id": "bc28e8cc-b1d9-4533-bcf6-e90b4d392d15",
   "metadata": {},
   "outputs": [
    {
     "data": {
      "text/plain": [
       "'71a22caf16418f0068141e8413120320b3fde178'"
      ]
     },
     "execution_count": 5,
     "metadata": {},
     "output_type": "execute_result"
    }
   ],
   "source": [
    "access_token"
   ]
  },
  {
   "cell_type": "code",
   "execution_count": 6,
   "id": "3724f16a-c058-407c-85d3-3cbd1c250999",
   "metadata": {},
   "outputs": [
    {
     "name": "stdout",
     "output_type": "stream",
     "text": [
      "Local time:  2025-07-07 17:32:09\n"
     ]
    }
   ],
   "source": [
    "import datetime\n",
    "expires_at = 1751931129\n",
    "# Convert to datetime object (local time)\n",
    "dt_local = datetime.datetime.fromtimestamp(expires_at)\n",
    "print(\"Local time: \", dt_local)"
   ]
  },
  {
   "cell_type": "code",
   "execution_count": 7,
   "id": "81cd19c4-0abe-4efa-a773-540a8bd3b052",
   "metadata": {},
   "outputs": [
    {
     "data": {
      "text/plain": [
       "200"
      ]
     },
     "execution_count": 7,
     "metadata": {},
     "output_type": "execute_result"
    }
   ],
   "source": [
    "# Get your recent activities\n",
    "response = requests.get(\n",
    "    'https://www.strava.com/api/v3/athlete/activities',\n",
    "    headers={'Authorization': f'Bearer {access_token}'}\n",
    ")\n",
    "activities = response.json()\n",
    "response.status_code"
   ]
  },
  {
   "cell_type": "code",
   "execution_count": 8,
   "id": "9f3cf1d4-726d-4ac0-a30f-0017a388847d",
   "metadata": {},
   "outputs": [
    {
     "name": "stdout",
     "output_type": "stream",
     "text": [
      "ID: 15037283785, Name: Old Stage, Date: 2025-07-07T12:38:38Z\n",
      "ID: 15027982989, Name: North dirt roads to Longmont bike paths and Babettes, Date: 2025-07-06T14:14:42Z\n",
      "ID: 15017668877, Name: Base of LickSkillet++, Date: 2025-07-05T13:55:37Z\n"
     ]
    }
   ],
   "source": [
    "# Show the first 3 activities with ID and name\n",
    "for activity in activities[:3]:\n",
    "    print(f\"ID: {activity['id']}, Name: {activity['name']}, Date: {activity['start_date']}\")"
   ]
  },
  {
   "cell_type": "code",
   "execution_count": 9,
   "id": "f052d56d-9ac4-49f8-989b-00fb54076771",
   "metadata": {},
   "outputs": [
    {
     "name": "stdout",
     "output_type": "stream",
     "text": [
      "[{'custom_zones': False,\n",
      "  'distribution_buckets': [{'max': 93, 'min': 0, 'time': 63.0},\n",
      "                           {'max': 123, 'min': 93, 'time': 4472.0},\n",
      "                           {'max': 138, 'min': 123, 'time': 4347.0},\n",
      "                           {'max': 153, 'min': 138, 'time': 1498.0},\n",
      "                           {'max': -1, 'min': 153, 'time': 0.0}],\n",
      "  'points': 33,\n",
      "  'resource_state': 3,\n",
      "  'score': 230.0,\n",
      "  'sensor_based': True,\n",
      "  'type': 'heartrate'},\n",
      " {'distribution_buckets': [{'max': 0, 'min': 0, 'time': 2309.0},\n",
      "                           {'max': 50, 'min': 0, 'time': 1620.0},\n",
      "                           {'max': 100, 'min': 50, 'time': 1436.0},\n",
      "                           {'max': 150, 'min': 100, 'time': 1846.0},\n",
      "                           {'max': 200, 'min': 150, 'time': 1869.0},\n",
      "                           {'max': 250, 'min': 200, 'time': 695.0},\n",
      "                           {'max': 300, 'min': 250, 'time': 297.0},\n",
      "                           {'max': 350, 'min': 300, 'time': 170.0},\n",
      "                           {'max': 400, 'min': 350, 'time': 67.0},\n",
      "                           {'max': 450, 'min': 400, 'time': 31.0},\n",
      "                           {'max': -1, 'min': 450, 'time': 40.0}],\n",
      "  'resource_state': 3,\n",
      "  'sensor_based': False,\n",
      "  'type': 'power'}]\n"
     ]
    }
   ],
   "source": [
    "# activity ID you want to inspect\n",
    "activity_id = 15006491752\n",
    "\n",
    "# Define endpoint URL\n",
    "url = f'https://www.strava.com/api/v3/activities/{activity_id}/zones'\n",
    "# Set up Authorization header and make request\n",
    "headers = {'Authorization': f'Bearer {access_token}'}\n",
    "response = requests.get(url, headers=headers)\n",
    "\n",
    "# Check if the request was successful\n",
    "if response.status_code == 200:\n",
    "    zones = response.json()\n",
    "    pprint(zones)\n",
    "else:\n",
    "    print(f\"Error: {response.status_code}\")\n",
    "    print(response.text)"
   ]
  },
  {
   "cell_type": "code",
   "execution_count": 10,
   "id": "b6d5b69e-5a4e-41d9-b431-788bc3d23ad7",
   "metadata": {},
   "outputs": [
    {
     "data": {
      "text/plain": [
       "0         {'min': 0, 'max': 93, 'time': 63.0}\n",
       "1     {'min': 93, 'max': 123, 'time': 4472.0}\n",
       "2    {'min': 123, 'max': 138, 'time': 4347.0}\n",
       "3    {'min': 138, 'max': 153, 'time': 1498.0}\n",
       "4        {'min': 153, 'max': -1, 'time': 0.0}\n",
       "Name: distribution_buckets, dtype: object"
      ]
     },
     "execution_count": 10,
     "metadata": {},
     "output_type": "execute_result"
    }
   ],
   "source": [
    "zone_series  = pd.DataFrame(zones[0]).iloc[:,1]\n",
    "zone_series"
   ]
  },
  {
   "cell_type": "code",
   "execution_count": 11,
   "id": "4f15e047-457b-4cad-bffc-be19ffdbf232",
   "metadata": {},
   "outputs": [
    {
     "name": "stdout",
     "output_type": "stream",
     "text": [
      "230.0\n"
     ]
    },
    {
     "data": {
      "text/plain": [
       "0      63.0\n",
       "1    4472.0\n",
       "2    4347.0\n",
       "3    1498.0\n",
       "4       0.0\n",
       "Name: distribution_buckets, dtype: float64"
      ]
     },
     "execution_count": 11,
     "metadata": {},
     "output_type": "execute_result"
    }
   ],
   "source": [
    "suffer_score = pd.DataFrame(zones[0]).iloc[0,0]\n",
    "print(suffer_score)\n",
    "time_in_zones = zone_series.apply(lambda z: z['time'])\n",
    "time_in_zones"
   ]
  },
  {
   "cell_type": "code",
   "execution_count": 12,
   "id": "8bdbb4b4-24f3-463e-bf9b-1c8b4066f89e",
   "metadata": {},
   "outputs": [
    {
     "name": "stdout",
     "output_type": "stream",
     "text": [
      "ID: 15037283785, Type: Ride, Name: Old Stage, Date: 2025-07-07T12:38:38Z\n",
      "ID: 15027982989, Type: Ride, Name: North dirt roads to Longmont bike paths and Babettes, Date: 2025-07-06T14:14:42Z\n",
      "ID: 15017668877, Type: Ride, Name: Base of LickSkillet++, Date: 2025-07-05T13:55:37Z\n",
      "ID: 15006491752, Type: Ride, Name: Jamestown - Tempo, Date: 2025-07-04T13:46:37Z\n",
      "ID: 14975645989, Type: Ride, Name: Sunshine Canyon and Wallstreet to base of Switzerland Trail, Date: 2025-07-01T13:58:30Z\n",
      "ID: 14964904782, Type: Ride, Name: Gravel roads north, Date: 2025-06-30T14:38:54Z\n",
      "ID: 14954454448, Type: Ride, Name: Olde Stage, Date: 2025-06-29T14:11:46Z\n",
      "ID: 14944687171, Type: Ride, Name: Ned gravel loop, Date: 2025-06-28T16:10:10Z\n",
      "ID: 14934728422, Type: Ride, Name: St. Louis  Creek  to WP ski area, Date: 2025-06-27T15:23:35Z\n",
      "ID: 14925456666, Type: Ride, Name: RCMP VC Trail Ridge East  Side, Date: 2025-06-26T15:01:06Z\n",
      "ID: 14915319034, Type: Ride, Name: Trail Ridge into the hailstorm, Date: 2025-06-25T14:39:32Z\n",
      "ID: 14873916201, Type: Ride, Name: Old Fall River Road RMNP, Date: 2025-06-21T13:01:33Z\n",
      "ID: 14860197741, Type: Ride, Name: Old Stage, Date: 2025-06-20T11:51:29Z\n",
      "ID: 14854414147, Type: Ride, Name: Oh-My-God road ...a little gravel time, Date: 2025-06-19T14:51:55Z\n",
      "ID: 14840593381, Type: Ride, Name: Jamestown, Date: 2025-06-18T13:58:05Z\n",
      "ID: 14799346420, Type: Run, Name: Santa Rosa plateau, Date: 2025-06-14T16:14:13Z\n",
      "ID: 14767120578, Type: Run, Name: Angry hamstring - mostly a run walk, Date: 2025-06-11T13:00:34Z\n",
      "ID: 14758807206, Type: Ride, Name: Post Beer after Logan and Chapman, Date: 2025-06-10T14:12:21Z\n",
      "ID: 14748055178, Type: Ride, Name: Morning Ride, Date: 2025-06-09T16:10:19Z\n",
      "ID: 14737389332, Type: Ride, Name: Ward, Date: 2025-06-08T14:03:41Z\n",
      "ID: 14727760782, Type: Ride, Name: Winfield meanderings, Date: 2025-06-07T14:19:46Z\n",
      "ID: 14715424784, Type: Ride, Name: SuperFlag #3 and Petunia donuts (team photographer), Date: 2025-06-06T12:19:25Z\n",
      "ID: 14705554493, Type: Ride, Name: SuperFlag #2, Date: 2025-06-05T12:15:41Z\n",
      "ID: 14694429401, Type: Run, Name: 3 mile Morning Run, Date: 2025-06-04T12:26:44Z\n",
      "ID: 14684468262, Type: Ride, Name: SuperFlag, Date: 2025-06-03T13:14:53Z\n",
      "ID: 14672337121, Type: Run, Name: Boulder Res run - recovery day, Date: 2025-06-02T12:32:09Z\n",
      "ID: 14666228613, Type: Ride, Name: SuperJames and Ward, Date: 2025-06-01T14:02:17Z\n",
      "ID: 14621663272, Type: Run, Name: The Long Way Home, Date: 2025-05-28T13:18:10Z\n",
      "ID: 14610831144, Type: Run, Name: Water Tower 1, Date: 2025-05-27T13:13:10Z\n",
      "ID: 14592159474, Type: Run, Name: Flagstaff and Gregory Cyn Descent, Date: 2025-05-25T13:31:41Z\n"
     ]
    }
   ],
   "source": [
    "for activity in activities:\n",
    "    print(f\"ID: {activity['id']}, Type: {activity['sport_type']}, Name: {activity['name']}, Date: {activity['start_date']}\")"
   ]
  },
  {
   "cell_type": "code",
   "execution_count": 13,
   "id": "4957e3eb-e7d0-4171-861c-0a453fbed072",
   "metadata": {},
   "outputs": [
    {
     "name": "stdout",
     "output_type": "stream",
     "text": [
      "Suffer Score:  212.0\n",
      "Total Time: 84.5 minutes\n"
     ]
    },
    {
     "data": {
      "text/plain": [
       "0      54.0\n",
       "1     521.0\n",
       "2    1611.0\n",
       "3    2630.0\n",
       "4     255.0\n",
       "Name: distribution_buckets, dtype: float64"
      ]
     },
     "execution_count": 13,
     "metadata": {},
     "output_type": "execute_result"
    }
   ],
   "source": [
    "# activity ID to inspect\n",
    "activity_id = 14583246341\n",
    "# endpoint URL\n",
    "url = f'https://www.strava.com/api/v3/activities/{activity_id}/zones'\n",
    "# Set up Authorization header and make request\n",
    "headers = {'Authorization': f'Bearer {access_token}'}\n",
    "response = requests.get(url, headers=headers)\n",
    "\n",
    "# Check if the request was successful\n",
    "if response.status_code == 200:\n",
    "    zones = response.json()\n",
    "else:\n",
    "    print(f\"Error: {response.status_code}\")\n",
    "    print(response.text)\n",
    "\n",
    "suffer_score = pd.DataFrame(zones[0]).iloc[0,0]\n",
    "print(f\"Suffer Score: \",suffer_score)\n",
    "zone_series  = pd.DataFrame(zones[0]).iloc[:,1]\n",
    "time_in_zones = zone_series.apply(lambda z: z['time'])\n",
    "total_minutes = time_in_zones.sum()/60\n",
    "print (f\"Total Time: {total_minutes:.1f} minutes\")\n",
    "time_in_zones"
   ]
  },
  {
   "cell_type": "code",
   "execution_count": 14,
   "id": "2eed1865-201f-4d6e-8700-4ef9096d8c36",
   "metadata": {},
   "outputs": [
    {
     "data": {
      "text/html": [
       "<div>\n",
       "<style scoped>\n",
       "    .dataframe tbody tr th:only-of-type {\n",
       "        vertical-align: middle;\n",
       "    }\n",
       "\n",
       "    .dataframe tbody tr th {\n",
       "        vertical-align: top;\n",
       "    }\n",
       "\n",
       "    .dataframe thead th {\n",
       "        text-align: right;\n",
       "    }\n",
       "</style>\n",
       "<table border=\"1\" class=\"dataframe\">\n",
       "  <thead>\n",
       "    <tr style=\"text-align: right;\">\n",
       "      <th></th>\n",
       "      <th>id</th>\n",
       "      <th>name</th>\n",
       "      <th>distance</th>\n",
       "      <th>moving_time</th>\n",
       "      <th>total_elevation_gain</th>\n",
       "      <th>sport_type</th>\n",
       "      <th>average_speed</th>\n",
       "      <th>average_heartrate</th>\n",
       "      <th>max_heartrate</th>\n",
       "      <th>suffer_score</th>\n",
       "      <th>start_date</th>\n",
       "    </tr>\n",
       "  </thead>\n",
       "  <tbody>\n",
       "    <tr>\n",
       "      <th>0</th>\n",
       "      <td>15037283785</td>\n",
       "      <td>Old Stage</td>\n",
       "      <td>44640.8</td>\n",
       "      <td>7128</td>\n",
       "      <td>430.0</td>\n",
       "      <td>Ride</td>\n",
       "      <td>6.26</td>\n",
       "      <td>109.6</td>\n",
       "      <td>134.0</td>\n",
       "      <td>54.0</td>\n",
       "      <td>2025-07-07T12:38:38Z</td>\n",
       "    </tr>\n",
       "    <tr>\n",
       "      <th>1</th>\n",
       "      <td>15027982989</td>\n",
       "      <td>North dirt roads to Longmont bike paths and Ba...</td>\n",
       "      <td>59511.9</td>\n",
       "      <td>10021</td>\n",
       "      <td>361.6</td>\n",
       "      <td>Ride</td>\n",
       "      <td>5.94</td>\n",
       "      <td>102.5</td>\n",
       "      <td>129.0</td>\n",
       "      <td>47.0</td>\n",
       "      <td>2025-07-06T14:14:42Z</td>\n",
       "    </tr>\n",
       "    <tr>\n",
       "      <th>2</th>\n",
       "      <td>15017668877</td>\n",
       "      <td>Base of LickSkillet++</td>\n",
       "      <td>75306.7</td>\n",
       "      <td>13372</td>\n",
       "      <td>1087.6</td>\n",
       "      <td>Ride</td>\n",
       "      <td>5.63</td>\n",
       "      <td>109.9</td>\n",
       "      <td>141.0</td>\n",
       "      <td>117.0</td>\n",
       "      <td>2025-07-05T13:55:37Z</td>\n",
       "    </tr>\n",
       "  </tbody>\n",
       "</table>\n",
       "</div>"
      ],
      "text/plain": [
       "            id                                               name  distance  \\\n",
       "0  15037283785                                          Old Stage   44640.8   \n",
       "1  15027982989  North dirt roads to Longmont bike paths and Ba...   59511.9   \n",
       "2  15017668877                              Base of LickSkillet++   75306.7   \n",
       "\n",
       "   moving_time  total_elevation_gain sport_type  average_speed  \\\n",
       "0         7128                 430.0       Ride           6.26   \n",
       "1        10021                 361.6       Ride           5.94   \n",
       "2        13372                1087.6       Ride           5.63   \n",
       "\n",
       "   average_heartrate  max_heartrate  suffer_score            start_date  \n",
       "0              109.6          134.0          54.0  2025-07-07T12:38:38Z  \n",
       "1              102.5          129.0          47.0  2025-07-06T14:14:42Z  \n",
       "2              109.9          141.0         117.0  2025-07-05T13:55:37Z  "
      ]
     },
     "execution_count": 14,
     "metadata": {},
     "output_type": "execute_result"
    }
   ],
   "source": [
    "df = pd.DataFrame(activities)\n",
    "cols_needed = ['id','name', 'distance', 'moving_time','total_elevation_gain', 'sport_type',\n",
    "          'average_speed', 'average_heartrate','max_heartrate', 'suffer_score','start_date']\n",
    "df = df.loc[:,cols_needed]\n",
    "df.head(3)"
   ]
  },
  {
   "cell_type": "code",
   "execution_count": 15,
   "id": "a5f9ed31-5105-4a13-8afb-6e62cdc06205",
   "metadata": {},
   "outputs": [],
   "source": [
    "# Change to datetime and creat new date column\n",
    "df.start_date = pd.to_datetime(df.start_date) \n",
    "df['date'] = df.start_date.dt.date\n",
    "\n",
    "# Change distance to miles\n",
    "df['distance'] = df['distance'] / 1609.34\n",
    "\n",
    "# Change moving time to minutes in new col: time\n",
    "df['time'] = df.moving_time/60\n",
    "\n",
    "# Convert to timedelta\n",
    "df.moving_time = pd.to_timedelta(df['moving_time'], unit='s')\n",
    "\n",
    "# Change to hours/minutes\n",
    "df['moving_time'] = df['moving_time'].apply(lambda td: f\"{int(td.total_seconds() // 3600)}:{int((td.total_seconds() % 3600) // 60):02}\")\n",
    "\n",
    "# Change to feet\n",
    "df.total_elevation_gain = df.total_elevation_gain*3.28084"
   ]
  },
  {
   "cell_type": "code",
   "execution_count": null,
   "id": "86db5ce1-a06d-4e4d-8e06-78b15868a8ce",
   "metadata": {},
   "outputs": [],
   "source": []
  },
  {
   "cell_type": "code",
   "execution_count": null,
   "id": "356a38ff-7a65-4bf2-9d5a-6557b51ee24a",
   "metadata": {},
   "outputs": [],
   "source": []
  },
  {
   "cell_type": "code",
   "execution_count": null,
   "id": "b5a5663d-cb00-4292-bd7b-0090257aee1a",
   "metadata": {},
   "outputs": [],
   "source": []
  },
  {
   "cell_type": "code",
   "execution_count": 16,
   "id": "6c207023-1aa0-4b69-8014-e18c9aed6860",
   "metadata": {},
   "outputs": [],
   "source": [
    "def convert_speed(row):\n",
    "    if row['sport_type'] == 'Ride':\n",
    "        return row['average_speed'] * 2.23694  # m/s to mph\n",
    "    elif row['sport_type'] == 'Run':\n",
    "        if row['average_speed'] > 0:\n",
    "            pace_sec_per_mile = 1609.34 / row['average_speed']\n",
    "            minutes = int(pace_sec_per_mile // 60)\n",
    "            seconds = int(pace_sec_per_mile % 60)\n",
    "            return f\"{minutes}:{seconds:02d}\"\n",
    "        else:\n",
    "            return \"N/A\"\n",
    "    else:\n",
    "        return None  # for other sports\n",
    "\n",
    "df['converted_speed'] = df.apply(convert_speed, axis=1)\n"
   ]
  },
  {
   "cell_type": "code",
   "execution_count": null,
   "id": "29049749-5e65-4e90-904d-1722ca95fde3",
   "metadata": {},
   "outputs": [],
   "source": []
  },
  {
   "cell_type": "code",
   "execution_count": null,
   "id": "16c25191-ef24-444a-a542-825709185b21",
   "metadata": {},
   "outputs": [],
   "source": []
  },
  {
   "cell_type": "code",
   "execution_count": null,
   "id": "48f313f0-b98f-4519-bc2f-0a35ae60d4c6",
   "metadata": {},
   "outputs": [],
   "source": []
  },
  {
   "cell_type": "code",
   "execution_count": null,
   "id": "0d8d3efb-cfe1-42a7-a8d1-ede10007f8d9",
   "metadata": {},
   "outputs": [],
   "source": []
  },
  {
   "cell_type": "code",
   "execution_count": 19,
   "id": "3ece8d37-805d-4fd9-9fa6-506bc45d20ad",
   "metadata": {},
   "outputs": [],
   "source": [
    "new_order = ['id', 'name','date','sport_type',  'distance','moving_time', 'converted_speed', \n",
    "       'average_speed','total_elevation_gain', 'average_heartrate', 'max_heartrate',\n",
    "       'suffer_score', 'time','start_date' ]"
   ]
  },
  {
   "cell_type": "code",
   "execution_count": 22,
   "id": "9bdd9e3b-989d-425a-bea7-3e34829656c5",
   "metadata": {},
   "outputs": [],
   "source": [
    "pd.set_option('display.precision', 1)\n",
    "df = df[new_order]"
   ]
  },
  {
   "cell_type": "code",
   "execution_count": null,
   "id": "eba8001d-bfe5-49ed-a73a-b8a627dc68a9",
   "metadata": {},
   "outputs": [],
   "source": []
  },
  {
   "cell_type": "code",
   "execution_count": null,
   "id": "acd0996c-9e9f-4e47-bcbd-cafeb886c4a2",
   "metadata": {},
   "outputs": [],
   "source": []
  },
  {
   "cell_type": "code",
   "execution_count": null,
   "id": "080d8aa9-d23c-4987-9808-fa9d4a8c1b0a",
   "metadata": {},
   "outputs": [],
   "source": []
  },
  {
   "cell_type": "code",
   "execution_count": 25,
   "id": "5ac1f611-96a7-4bda-bb26-00683d53cb21",
   "metadata": {},
   "outputs": [],
   "source": [
    "df.columns = ['id', 'name', 'date', 'sport', 'distance', 'time',\n",
    "       'speed', 'average_speed', 'elev_gain',\n",
    "       'avg_HR', 'max_HR', 'suffer_score', 'time-minutes',\n",
    "       'start_date']"
   ]
  },
  {
   "cell_type": "code",
   "execution_count": 27,
   "id": "41f1f78f-a3d2-4220-bb6a-0dd7b1e59708",
   "metadata": {
    "jp-MarkdownHeadingCollapsed": true
   },
   "outputs": [],
   "source": [
    "second_order = ['id', 'name', 'date', 'sport', 'distance', 'time',\n",
    "       'speed', 'elev_gain',\n",
    "       'avg_HR', 'max_HR', 'suffer_score', 'time-minutes','average_speed',\n",
    "       'start_date']"
   ]
  },
  {
   "cell_type": "code",
   "execution_count": 29,
   "id": "113dab64-af40-460b-8f72-36f97a04b90a",
   "metadata": {},
   "outputs": [
    {
     "data": {
      "text/html": [
       "<div>\n",
       "<style scoped>\n",
       "    .dataframe tbody tr th:only-of-type {\n",
       "        vertical-align: middle;\n",
       "    }\n",
       "\n",
       "    .dataframe tbody tr th {\n",
       "        vertical-align: top;\n",
       "    }\n",
       "\n",
       "    .dataframe thead th {\n",
       "        text-align: right;\n",
       "    }\n",
       "</style>\n",
       "<table border=\"1\" class=\"dataframe\">\n",
       "  <thead>\n",
       "    <tr style=\"text-align: right;\">\n",
       "      <th></th>\n",
       "      <th>id</th>\n",
       "      <th>name</th>\n",
       "      <th>date</th>\n",
       "      <th>sport</th>\n",
       "      <th>distance</th>\n",
       "      <th>time</th>\n",
       "      <th>speed</th>\n",
       "      <th>elev_gain</th>\n",
       "      <th>avg_HR</th>\n",
       "      <th>max_HR</th>\n",
       "      <th>suffer_score</th>\n",
       "      <th>time-minutes</th>\n",
       "      <th>average_speed</th>\n",
       "      <th>start_date</th>\n",
       "    </tr>\n",
       "  </thead>\n",
       "  <tbody>\n",
       "    <tr>\n",
       "      <th>25</th>\n",
       "      <td>14672337121</td>\n",
       "      <td>Boulder Res run - recovery day</td>\n",
       "      <td>2025-06-02</td>\n",
       "      <td>Run</td>\n",
       "      <td>4.6</td>\n",
       "      <td>0:47</td>\n",
       "      <td>10:19</td>\n",
       "      <td>186.0</td>\n",
       "      <td>128.3</td>\n",
       "      <td>141.0</td>\n",
       "      <td>84.0</td>\n",
       "      <td>47.8</td>\n",
       "      <td>2.6</td>\n",
       "      <td>2025-06-02 12:32:09+00:00</td>\n",
       "    </tr>\n",
       "    <tr>\n",
       "      <th>26</th>\n",
       "      <td>14666228613</td>\n",
       "      <td>SuperJames and Ward</td>\n",
       "      <td>2025-06-01</td>\n",
       "      <td>Ride</td>\n",
       "      <td>52.9</td>\n",
       "      <td>4:25</td>\n",
       "      <td>12.0</td>\n",
       "      <td>4504.6</td>\n",
       "      <td>118.6</td>\n",
       "      <td>144.0</td>\n",
       "      <td>281.0</td>\n",
       "      <td>265.2</td>\n",
       "      <td>5.4</td>\n",
       "      <td>2025-06-01 14:02:17+00:00</td>\n",
       "    </tr>\n",
       "    <tr>\n",
       "      <th>27</th>\n",
       "      <td>14621663272</td>\n",
       "      <td>The Long Way Home</td>\n",
       "      <td>2025-05-28</td>\n",
       "      <td>Run</td>\n",
       "      <td>9.8</td>\n",
       "      <td>1:40</td>\n",
       "      <td>10:19</td>\n",
       "      <td>389.1</td>\n",
       "      <td>134.2</td>\n",
       "      <td>163.0</td>\n",
       "      <td>230.0</td>\n",
       "      <td>101.0</td>\n",
       "      <td>2.6</td>\n",
       "      <td>2025-05-28 13:18:10+00:00</td>\n",
       "    </tr>\n",
       "    <tr>\n",
       "      <th>28</th>\n",
       "      <td>14610831144</td>\n",
       "      <td>Water Tower 1</td>\n",
       "      <td>2025-05-27</td>\n",
       "      <td>Run</td>\n",
       "      <td>7.1</td>\n",
       "      <td>1:08</td>\n",
       "      <td>9:33</td>\n",
       "      <td>276.6</td>\n",
       "      <td>144.7</td>\n",
       "      <td>170.0</td>\n",
       "      <td>241.0</td>\n",
       "      <td>68.1</td>\n",
       "      <td>2.8</td>\n",
       "      <td>2025-05-27 13:13:10+00:00</td>\n",
       "    </tr>\n",
       "    <tr>\n",
       "      <th>29</th>\n",
       "      <td>14592159474</td>\n",
       "      <td>Flagstaff and Gregory Cyn Descent</td>\n",
       "      <td>2025-05-25</td>\n",
       "      <td>Run</td>\n",
       "      <td>3.5</td>\n",
       "      <td>1:17</td>\n",
       "      <td>22:26</td>\n",
       "      <td>1207.0</td>\n",
       "      <td>108.6</td>\n",
       "      <td>125.0</td>\n",
       "      <td>29.0</td>\n",
       "      <td>77.7</td>\n",
       "      <td>1.2</td>\n",
       "      <td>2025-05-25 13:31:41+00:00</td>\n",
       "    </tr>\n",
       "  </tbody>\n",
       "</table>\n",
       "</div>"
      ],
      "text/plain": [
       "             id                               name        date sport  \\\n",
       "25  14672337121     Boulder Res run - recovery day  2025-06-02   Run   \n",
       "26  14666228613                SuperJames and Ward  2025-06-01  Ride   \n",
       "27  14621663272                  The Long Way Home  2025-05-28   Run   \n",
       "28  14610831144                      Water Tower 1  2025-05-27   Run   \n",
       "29  14592159474  Flagstaff and Gregory Cyn Descent  2025-05-25   Run   \n",
       "\n",
       "    distance  time  speed  elev_gain  avg_HR  max_HR  suffer_score  \\\n",
       "25       4.6  0:47  10:19      186.0   128.3   141.0          84.0   \n",
       "26      52.9  4:25   12.0     4504.6   118.6   144.0         281.0   \n",
       "27       9.8  1:40  10:19      389.1   134.2   163.0         230.0   \n",
       "28       7.1  1:08   9:33      276.6   144.7   170.0         241.0   \n",
       "29       3.5  1:17  22:26     1207.0   108.6   125.0          29.0   \n",
       "\n",
       "    time-minutes  average_speed                start_date  \n",
       "25          47.8            2.6 2025-06-02 12:32:09+00:00  \n",
       "26         265.2            5.4 2025-06-01 14:02:17+00:00  \n",
       "27         101.0            2.6 2025-05-28 13:18:10+00:00  \n",
       "28          68.1            2.8 2025-05-27 13:13:10+00:00  \n",
       "29          77.7            1.2 2025-05-25 13:31:41+00:00  "
      ]
     },
     "execution_count": 29,
     "metadata": {},
     "output_type": "execute_result"
    }
   ],
   "source": [
    "df = df[second_order]\n",
    "df.tail(5)"
   ]
  },
  {
   "cell_type": "markdown",
   "id": "1e903502-b9a5-47ff-9fc1-68053abc3819",
   "metadata": {},
   "source": [
    "### Listing what is available "
   ]
  },
  {
   "cell_type": "code",
   "execution_count": null,
   "id": "7fb72516-7b2f-4c0d-a31b-c9bbbf3babe3",
   "metadata": {},
   "outputs": [],
   "source": [
    "from pprint import pprint\n",
    "n=0\n",
    "for activity in activities:\n",
    "    n+=1\n",
    "    if n <= 1:\n",
    "        pprint(activity)"
   ]
  }
 ],
 "metadata": {
  "kernelspec": {
   "display_name": "Python 3 (ipykernel)",
   "language": "python",
   "name": "python3"
  },
  "language_info": {
   "codemirror_mode": {
    "name": "ipython",
    "version": 3
   },
   "file_extension": ".py",
   "mimetype": "text/x-python",
   "name": "python",
   "nbconvert_exporter": "python",
   "pygments_lexer": "ipython3",
   "version": "3.11.13"
  }
 },
 "nbformat": 4,
 "nbformat_minor": 5
}
